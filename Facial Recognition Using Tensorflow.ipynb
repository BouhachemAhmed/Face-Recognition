{
 "cells": [
  {
   "cell_type": "markdown",
   "metadata": {},
   "source": [
    "# 1. Setup"
   ]
  },
  {
   "cell_type": "markdown",
   "metadata": {},
   "source": [
    "Install Dependencies"
   ]
  },
  {
   "cell_type": "code",
   "execution_count": 1,
   "metadata": {},
   "outputs": [
    {
     "name": "stdout",
     "output_type": "stream",
     "text": [
      "Requirement already satisfied: tensorflow==2.4.1 in c:\\users\\ahmed\\anaconda3\\lib\\site-packages (2.4.1)\n",
      "Requirement already satisfied: tensorflow-gpu==2.4.1 in c:\\users\\ahmed\\anaconda3\\lib\\site-packages (2.4.1)\n",
      "Requirement already satisfied: opencv-python in c:\\users\\ahmed\\anaconda3\\lib\\site-packages (3.4.2.17)\n",
      "Requirement already satisfied: matplotlib in c:\\users\\ahmed\\anaconda3\\lib\\site-packages (3.1.3)\n",
      "Requirement already satisfied: opt-einsum~=3.3.0 in c:\\users\\ahmed\\anaconda3\\lib\\site-packages (from tensorflow==2.4.1) (3.3.0)\n",
      "Requirement already satisfied: typing-extensions~=3.7.4 in c:\\users\\ahmed\\anaconda3\\lib\\site-packages (from tensorflow==2.4.1) (3.7.4.1)\n",
      "Requirement already satisfied: google-pasta~=0.2 in c:\\users\\ahmed\\anaconda3\\lib\\site-packages (from tensorflow==2.4.1) (0.2.0)\n",
      "Requirement already satisfied: absl-py~=0.10 in c:\\users\\ahmed\\anaconda3\\lib\\site-packages (from tensorflow==2.4.1) (0.15.0)\n",
      "Requirement already satisfied: protobuf>=3.9.2 in c:\\users\\ahmed\\anaconda3\\lib\\site-packages (from tensorflow==2.4.1) (3.20.3)\n",
      "Requirement already satisfied: termcolor~=1.1.0 in c:\\users\\ahmed\\anaconda3\\lib\\site-packages (from tensorflow==2.4.1) (1.1.0)\n",
      "Requirement already satisfied: tensorboard~=2.4 in c:\\users\\ahmed\\anaconda3\\lib\\site-packages (from tensorflow==2.4.1) (2.11.2)\n",
      "Requirement already satisfied: h5py~=2.10.0 in c:\\users\\ahmed\\anaconda3\\lib\\site-packages (from tensorflow==2.4.1) (2.10.0)\n",
      "Requirement already satisfied: flatbuffers~=1.12.0 in c:\\users\\ahmed\\anaconda3\\lib\\site-packages (from tensorflow==2.4.1) (1.12)\n",
      "Requirement already satisfied: gast==0.3.3 in c:\\users\\ahmed\\anaconda3\\lib\\site-packages (from tensorflow==2.4.1) (0.3.3)\n",
      "Requirement already satisfied: grpcio~=1.32.0 in c:\\users\\ahmed\\anaconda3\\lib\\site-packages (from tensorflow==2.4.1) (1.32.0)\n",
      "Requirement already satisfied: numpy~=1.19.2 in c:\\users\\ahmed\\anaconda3\\lib\\site-packages (from tensorflow==2.4.1) (1.19.5)\n",
      "Requirement already satisfied: keras-preprocessing~=1.1.2 in c:\\users\\ahmed\\anaconda3\\lib\\site-packages (from tensorflow==2.4.1) (1.1.2)\n",
      "Requirement already satisfied: wheel~=0.35 in c:\\users\\ahmed\\anaconda3\\lib\\site-packages (from tensorflow==2.4.1) (0.38.4)\n",
      "Requirement already satisfied: six~=1.15.0 in c:\\users\\ahmed\\anaconda3\\lib\\site-packages (from tensorflow==2.4.1) (1.15.0)\n",
      "Requirement already satisfied: tensorflow-estimator<2.5.0,>=2.4.0 in c:\\users\\ahmed\\anaconda3\\lib\\site-packages (from tensorflow==2.4.1) (2.4.0)\n",
      "Requirement already satisfied: astunparse~=1.6.3 in c:\\users\\ahmed\\anaconda3\\lib\\site-packages (from tensorflow==2.4.1) (1.6.3)\n",
      "Requirement already satisfied: wrapt~=1.12.1 in c:\\users\\ahmed\\anaconda3\\lib\\site-packages (from tensorflow==2.4.1) (1.12.1)\n",
      "Requirement already satisfied: kiwisolver>=1.0.1 in c:\\users\\ahmed\\anaconda3\\lib\\site-packages (from matplotlib) (1.1.0)\n",
      "Requirement already satisfied: cycler>=0.10 in c:\\users\\ahmed\\anaconda3\\lib\\site-packages (from matplotlib) (0.10.0)\n",
      "Requirement already satisfied: python-dateutil>=2.1 in c:\\users\\ahmed\\anaconda3\\lib\\site-packages (from matplotlib) (2.8.1)\n",
      "Requirement already satisfied: pyparsing!=2.0.4,!=2.1.2,!=2.1.6,>=2.0.1 in c:\\users\\ahmed\\anaconda3\\lib\\site-packages (from matplotlib) (2.4.6)\n",
      "Requirement already satisfied: requests<3,>=2.21.0 in c:\\users\\ahmed\\anaconda3\\lib\\site-packages (from tensorboard~=2.4->tensorflow==2.4.1) (2.23.0)\n",
      "Requirement already satisfied: google-auth<3,>=1.6.3 in c:\\users\\ahmed\\anaconda3\\lib\\site-packages (from tensorboard~=2.4->tensorflow==2.4.1) (2.16.0)\n",
      "Requirement already satisfied: google-auth-oauthlib<0.5,>=0.4.1 in c:\\users\\ahmed\\anaconda3\\lib\\site-packages (from tensorboard~=2.4->tensorflow==2.4.1) (0.4.6)\n",
      "Requirement already satisfied: werkzeug>=1.0.1 in c:\\users\\ahmed\\anaconda3\\lib\\site-packages (from tensorboard~=2.4->tensorflow==2.4.1) (1.0.1)\n",
      "Requirement already satisfied: tensorboard-plugin-wit>=1.6.0 in c:\\users\\ahmed\\anaconda3\\lib\\site-packages (from tensorboard~=2.4->tensorflow==2.4.1) (1.8.1)\n",
      "Requirement already satisfied: markdown>=2.6.8 in c:\\users\\ahmed\\anaconda3\\lib\\site-packages (from tensorboard~=2.4->tensorflow==2.4.1) (3.4.1)\n",
      "Requirement already satisfied: setuptools>=41.0.0 in c:\\users\\ahmed\\anaconda3\\lib\\site-packages (from tensorboard~=2.4->tensorflow==2.4.1) (46.1.3.post20200330)\n",
      "Requirement already satisfied: tensorboard-data-server<0.7.0,>=0.6.0 in c:\\users\\ahmed\\anaconda3\\lib\\site-packages (from tensorboard~=2.4->tensorflow==2.4.1) (0.6.1)\n",
      "Requirement already satisfied: chardet<4,>=3.0.2 in c:\\users\\ahmed\\anaconda3\\lib\\site-packages (from requests<3,>=2.21.0->tensorboard~=2.4->tensorflow==2.4.1) (3.0.4)\n",
      "Requirement already satisfied: urllib3!=1.25.0,!=1.25.1,<1.26,>=1.21.1 in c:\\users\\ahmed\\anaconda3\\lib\\site-packages (from requests<3,>=2.21.0->tensorboard~=2.4->tensorflow==2.4.1) (1.25.8)\n",
      "Requirement already satisfied: idna<3,>=2.5 in c:\\users\\ahmed\\anaconda3\\lib\\site-packages (from requests<3,>=2.21.0->tensorboard~=2.4->tensorflow==2.4.1) (2.9)\n",
      "Requirement already satisfied: certifi>=2017.4.17 in c:\\users\\ahmed\\anaconda3\\lib\\site-packages (from requests<3,>=2.21.0->tensorboard~=2.4->tensorflow==2.4.1) (2020.6.20)\n",
      "Requirement already satisfied: cachetools<6.0,>=2.0.0 in c:\\users\\ahmed\\anaconda3\\lib\\site-packages (from google-auth<3,>=1.6.3->tensorboard~=2.4->tensorflow==2.4.1) (5.2.1)\n",
      "Requirement already satisfied: pyasn1-modules>=0.2.1 in c:\\users\\ahmed\\anaconda3\\lib\\site-packages (from google-auth<3,>=1.6.3->tensorboard~=2.4->tensorflow==2.4.1) (0.2.8)\n",
      "Requirement already satisfied: rsa<5,>=3.1.4; python_version >= \"3.6\" in c:\\users\\ahmed\\anaconda3\\lib\\site-packages (from google-auth<3,>=1.6.3->tensorboard~=2.4->tensorflow==2.4.1) (4.9)\n",
      "Requirement already satisfied: requests-oauthlib>=0.7.0 in c:\\users\\ahmed\\anaconda3\\lib\\site-packages (from google-auth-oauthlib<0.5,>=0.4.1->tensorboard~=2.4->tensorflow==2.4.1) (1.3.1)\n"
     ]
    },
    {
     "name": "stderr",
     "output_type": "stream",
     "text": [
      "Keyring is skipped due to an exception: 'keyring.backends'\n"
     ]
    },
    {
     "name": "stdout",
     "output_type": "stream",
     "text": [
      "Requirement already satisfied: importlib-metadata>=4.4; python_version < \"3.10\" in c:\\users\\ahmed\\anaconda3\\lib\\site-packages (from markdown>=2.6.8->tensorboard~=2.4->tensorflow==2.4.1) (6.0.0)\n",
      "Requirement already satisfied: pyasn1<0.5.0,>=0.4.6 in c:\\users\\ahmed\\anaconda3\\lib\\site-packages (from pyasn1-modules>=0.2.1->google-auth<3,>=1.6.3->tensorboard~=2.4->tensorflow==2.4.1) (0.4.8)\n",
      "Requirement already satisfied: oauthlib>=3.0.0 in c:\\users\\ahmed\\anaconda3\\lib\\site-packages (from requests-oauthlib>=0.7.0->google-auth-oauthlib<0.5,>=0.4.1->tensorboard~=2.4->tensorflow==2.4.1) (3.2.2)\n",
      "Requirement already satisfied: zipp>=0.5 in c:\\users\\ahmed\\anaconda3\\lib\\site-packages (from importlib-metadata>=4.4; python_version < \"3.10\"->markdown>=2.6.8->tensorboard~=2.4->tensorflow==2.4.1) (2.2.0)\n",
      "Requirement already satisfied: protobuf==3.20.* in c:\\users\\ahmed\\anaconda3\\lib\\site-packages (3.20.3)\n"
     ]
    },
    {
     "name": "stderr",
     "output_type": "stream",
     "text": [
      "Keyring is skipped due to an exception: 'keyring.backends'\n"
     ]
    }
   ],
   "source": [
    "!pip install tensorflow==2.4.1 tensorflow-gpu==2.4.1 opencv-python matplotlib\n",
    "!pip install protobuf==3.20.*"
   ]
  },
  {
   "cell_type": "markdown",
   "metadata": {},
   "source": [
    " Import Dependencies"
   ]
  },
  {
   "cell_type": "code",
   "execution_count": 119,
   "metadata": {},
   "outputs": [],
   "source": [
    "# Import standard dependencies\n",
    "import cv2\n",
    "import os\n",
    "import random\n",
    "import numpy as np\n",
    "from numpy import *\n",
    "from matplotlib import pyplot as plt"
   ]
  },
  {
   "cell_type": "code",
   "execution_count": 3,
   "metadata": {},
   "outputs": [],
   "source": [
    "# Import tensorflow dependencies - Functional API\n",
    "from tensorflow.keras.models import Model\n",
    "from tensorflow.keras.layers import Layer, Conv2D, Dense, MaxPooling2D, Input, Flatten\n",
    "import tensorflow as tf"
   ]
  },
  {
   "cell_type": "markdown",
   "metadata": {},
   "source": [
    "Set GPU Growth"
   ]
  },
  {
   "cell_type": "code",
   "execution_count": 4,
   "metadata": {},
   "outputs": [],
   "source": [
    "# Avoid OOM errors by setting GPU Memory Consumption Growth\n",
    "gpus = tf.config.experimental.list_physical_devices('GPU')\n",
    "for gpu in gpus: \n",
    "    tf.config.experimental.set_memory_growth(gpu, True)"
   ]
  },
  {
   "cell_type": "markdown",
   "metadata": {},
   "source": [
    "Create Folder Structures"
   ]
  },
  {
   "cell_type": "code",
   "execution_count": 5,
   "metadata": {},
   "outputs": [],
   "source": [
    "# Setup paths\n",
    "POS_PATH = os.path.join('data', 'positive')\n",
    "NEG_PATH = os.path.join('data', 'negative')\n",
    "ANC_PATH = os.path.join('data', 'anchor')"
   ]
  },
  {
   "cell_type": "code",
   "execution_count": 9,
   "metadata": {},
   "outputs": [
    {
     "name": "stdout",
     "output_type": "stream",
     "text": [
      "C:\\Users\\ahmed\n"
     ]
    }
   ],
   "source": [
    "# Find the paths\n",
    "from pathlib import Path\n",
    "print(Path.cwd())"
   ]
  },
  {
   "cell_type": "code",
   "execution_count": 8,
   "metadata": {},
   "outputs": [],
   "source": [
    "# Make the directories\n",
    "os.makedirs(POS_PATH)\n",
    "os.makedirs(NEG_PATH)\n",
    "os.makedirs(ANC_PATH)"
   ]
  },
  {
   "cell_type": "markdown",
   "metadata": {},
   "source": [
    "# Collect Positives and Anchors"
   ]
  },
  {
   "cell_type": "markdown",
   "metadata": {},
   "source": [
    "Untar Labelled Faces in the Wild Dataset"
   ]
  },
  {
   "cell_type": "raw",
   "metadata": {},
   "source": [
    "click on the link\n",
    "#http://vis-www.cs.umass.edu/lfw/"
   ]
  },
  {
   "cell_type": "code",
   "execution_count": 10,
   "metadata": {},
   "outputs": [],
   "source": [
    "# Uncompress Tar GZ Labelled Faces in the Wild Dataset\n",
    "# go to \"Download\" and than download \"All images as gzipped tar file\" , after download it and place in the same path\n",
    "#the name of the file we are gonna uncompress is \"lfw.tgz\"\n",
    "!tar -xf lfw.tgz"
   ]
  },
  {
   "cell_type": "code",
   "execution_count": 11,
   "metadata": {},
   "outputs": [],
   "source": [
    "# Move LFW Images to the following repository data/negative\n",
    "for directory in os.listdir('lfw'):\n",
    "    for file in os.listdir(os.path.join('lfw', directory)):\n",
    "        EX_PATH = os.path.join('lfw', directory, file)\n",
    "        NEW_PATH = os.path.join(NEG_PATH, file)\n",
    "        os.replace(EX_PATH, NEW_PATH)"
   ]
  },
  {
   "cell_type": "markdown",
   "metadata": {},
   "source": [
    "Collect Positive and Anchor Classes"
   ]
  },
  {
   "cell_type": "code",
   "execution_count": 12,
   "metadata": {},
   "outputs": [],
   "source": [
    "# Import uuid library to generate unique image names\n",
    "import uuid"
   ]
  },
  {
   "cell_type": "code",
   "execution_count": 13,
   "metadata": {},
   "outputs": [
    {
     "data": {
      "text/plain": [
       "'data\\\\anchor\\\\763756d8-9b66-11ed-9289-3ca0675cea1e.jpg'"
      ]
     },
     "execution_count": 13,
     "metadata": {},
     "output_type": "execute_result"
    }
   ],
   "source": [
    "os.path.join(ANC_PATH, '{}.jpg'.format(uuid.uuid1()))"
   ]
  },
  {
   "cell_type": "code",
   "execution_count": 14,
   "metadata": {},
   "outputs": [],
   "source": [
    "# Establish a connection to the webcam\n",
    "cap = cv2.VideoCapture(0)\n",
    "while cap.isOpened(): \n",
    "    ret, frame = cap.read()\n",
    "   \n",
    "    # Cut down frame to 250x250px\n",
    "    frame = frame[120:120+250,200:200+250, :]\n",
    "    \n",
    "    # Collect anchors \n",
    "    if cv2.waitKey(1) & 0XFF == ord('a'):\n",
    "        # Create the unique file path \n",
    "        imgname = os.path.join(ANC_PATH, '{}.jpg'.format(uuid.uuid1()))\n",
    "        # Write out anchor image\n",
    "        cv2.imwrite(imgname, frame)\n",
    "    \n",
    "    # Collect positives\n",
    "    if cv2.waitKey(1) & 0XFF == ord('p'):\n",
    "        # Create the unique file path \n",
    "        imgname = os.path.join(POS_PATH, '{}.jpg'.format(uuid.uuid1()))\n",
    "        # Write out positive image\n",
    "        cv2.imwrite(imgname, frame)\n",
    "    \n",
    "    # Show image back to screen\n",
    "    cv2.imshow('Image Collection', frame)\n",
    "    \n",
    "    # Breaking gracefully\n",
    "    if cv2.waitKey(1) & 0XFF == ord('q'):\n",
    "        break\n",
    "        \n",
    "# Release the webcam\n",
    "cap.release()\n",
    "# Close the image show frame\n",
    "cv2.destroyAllWindows()"
   ]
  },
  {
   "cell_type": "code",
   "execution_count": 15,
   "metadata": {},
   "outputs": [
    {
     "data": {
      "text/plain": [
       "<matplotlib.image.AxesImage at 0x1ffbeca6208>"
      ]
     },
     "execution_count": 15,
     "metadata": {},
     "output_type": "execute_result"
    },
    {
     "data": {
      "image/png": "[encoded data removed]",
      "text/plain": [
       "<Figure size 432x288 with 1 Axes>"
      ]
     },
     "metadata": {
      "needs_background": "light"
     },
     "output_type": "display_data"
    }
   ],
   "source": [
    "plt.imshow(frame[120:120+250,200:200+250, :])"
   ]
  },
  {
   "cell_type": "markdown",
   "metadata": {},
   "source": [
    "# Data Augmentation"
   ]
  },
  {
   "cell_type": "code",
   "execution_count": 16,
   "metadata": {},
   "outputs": [],
   "source": [
    "def data_aug(img):\n",
    "    data = []\n",
    "    for i in range(9):\n",
    "        img = tf.image.stateless_random_brightness(img, max_delta=0.02, seed=(1,2))\n",
    "        img = tf.image.stateless_random_contrast(img, lower=0.6, upper=1, seed=(1,3))\n",
    "        # img = tf.image.stateless_random_crop(img, size=(20,20,3), seed=(1,2))\n",
    "        img = tf.image.stateless_random_flip_left_right(img, seed=(np.random.randint(100),np.random.randint(100)))\n",
    "        img = tf.image.stateless_random_jpeg_quality(img, min_jpeg_quality=90, max_jpeg_quality=100, seed=(np.random.randint(100),np.random.randint(100)))\n",
    "        img = tf.image.stateless_random_saturation(img, lower=0.9,upper=1, seed=(np.random.randint(100),np.random.randint(100)))\n",
    "            \n",
    "        data.append(img)\n",
    "    \n",
    "    return data"
   ]
  },
  {
   "cell_type": "code",
   "execution_count": 17,
   "metadata": {},
   "outputs": [],
   "source": [
    "import os\n",
    "import uuid"
   ]
  },
  {
   "cell_type": "code",
   "execution_count": null,
   "metadata": {},
   "outputs": [],
   "source": []
  },
  {
   "cell_type": "code",
   "execution_count": 125,
   "metadata": {},
   "outputs": [],
   "source": [
    "for file_name in os.listdir(os.path.join(POS_PATH)):\n",
    "    img_path = os.path.join(POS_PATH, file_name)\n",
    "    img = cv2.imread(img_path)\n",
    "    augmented_images = data_aug(img) \n",
    "    \n",
    "    for image in augmented_images:\n",
    "        cv2.imwrite(os.path.join(POS_PATH, '{}.jpg'.format(uuid.uuid1())), image.numpy())"
   ]
  },
  {
   "cell_type": "markdown",
   "metadata": {},
   "source": [
    "# Load and Preprocess Images"
   ]
  },
  {
   "cell_type": "raw",
   "metadata": {},
   "source": [
    "Get Image Directories "
   ]
  },
  {
   "cell_type": "code",
   "execution_count": 20,
   "metadata": {},
   "outputs": [],
   "source": [
    "anchor = tf.data.Dataset.list_files(ANC_PATH+'\\*.jpg').take(3000)\n",
    "positive = tf.data.Dataset.list_files(POS_PATH+'\\*.jpg').take(3000)\n",
    "negative = tf.data.Dataset.list_files(NEG_PATH+'\\*.jpg').take(3000)"
   ]
  },
  {
   "cell_type": "code",
   "execution_count": 21,
   "metadata": {},
   "outputs": [],
   "source": [
    "dir_test = anchor.as_numpy_iterator()\n"
   ]
  },
  {
   "cell_type": "code",
   "execution_count": 22,
   "metadata": {},
   "outputs": [
    {
     "name": "stdout",
     "output_type": "stream",
     "text": [
      "b'data\\\\anchor\\\\d1387086-9b67-11ed-87d0-3ca0675cea1e.jpg'\n"
     ]
    }
   ],
   "source": [
    "print(dir_test.next())"
   ]
  },
  {
   "cell_type": "markdown",
   "metadata": {},
   "source": [
    "Preprocessing - Scale and Resize"
   ]
  },
  {
   "cell_type": "code",
   "execution_count": 23,
   "metadata": {},
   "outputs": [],
   "source": [
    "def preprocess(file_path):\n",
    "    \n",
    "    # Read in image from file path\n",
    "    byte_img = tf.io.read_file(file_path)\n",
    "    # Load in the image \n",
    "    img = tf.io.decode_jpeg(byte_img)\n",
    "    \n",
    "    # Preprocessing steps - resizing the image to be 100x100x3\n",
    "    img = tf.image.resize(img, (100,100))\n",
    "    # Scale image to be between 0 and 1 \n",
    "    img = img / 255.0\n",
    "\n",
    "    # Return image\n",
    "    return img"
   ]
  },
  {
   "cell_type": "code",
   "execution_count": null,
   "metadata": {},
   "outputs": [],
   "source": [
    "img = preprocess('data\\\\anchor\\\\b4ef3fca-9b67-11ed-87b9-3ca0675cea1e.jpg')\n"
   ]
  },
  {
   "cell_type": "code",
   "execution_count": null,
   "metadata": {
    "scrolled": false
   },
   "outputs": [],
   "source": [
    "img.numpy().max() "
   ]
  },
  {
   "cell_type": "code",
   "execution_count": null,
   "metadata": {},
   "outputs": [],
   "source": [
    "dataset.map(preprocess)"
   ]
  },
  {
   "cell_type": "markdown",
   "metadata": {},
   "source": [
    "Create Labelled Dataset"
   ]
  },
  {
   "cell_type": "code",
   "execution_count": 29,
   "metadata": {},
   "outputs": [],
   "source": [
    "# (anchor, positive) => 1,1,1,1,1\n",
    "# (anchor, negative) => 0,0,0,0,0"
   ]
  },
  {
   "cell_type": "code",
   "execution_count": 30,
   "metadata": {},
   "outputs": [],
   "source": [
    "positives = tf.data.Dataset.zip((anchor, positive, tf.data.Dataset.from_tensor_slices(tf.ones(len(anchor)))))\n",
    "negatives = tf.data.Dataset.zip((anchor, negative, tf.data.Dataset.from_tensor_slices(tf.zeros(len(anchor)))))\n",
    "data = positives.concatenate(negatives)"
   ]
  },
  {
   "cell_type": "code",
   "execution_count": 31,
   "metadata": {},
   "outputs": [],
   "source": [
    "samples = data.as_numpy_iterator()"
   ]
  },
  {
   "cell_type": "code",
   "execution_count": 32,
   "metadata": {},
   "outputs": [],
   "source": [
    "exampple = samples.next()"
   ]
  },
  {
   "cell_type": "code",
   "execution_count": 33,
   "metadata": {},
   "outputs": [
    {
     "data": {
      "text/plain": [
       "(b'data\\\\anchor\\\\b588ee0c-9b67-11ed-b48a-3ca0675cea1e.jpg',\n",
       " b'data\\\\positive\\\\3fd3f2a2-9b68-11ed-a5e8-3ca0675cea1e.jpg',\n",
       " 1.0)"
      ]
     },
     "execution_count": 33,
     "metadata": {},
     "output_type": "execute_result"
    }
   ],
   "source": [
    "exampple"
   ]
  },
  {
   "cell_type": "markdown",
   "metadata": {},
   "source": [
    "Build Train and Test Partition"
   ]
  },
  {
   "cell_type": "code",
   "execution_count": 34,
   "metadata": {},
   "outputs": [],
   "source": [
    "def preprocess_twin(input_img, validation_img, label):\n",
    "    return(preprocess(input_img), preprocess(validation_img), label)"
   ]
  },
  {
   "cell_type": "code",
   "execution_count": 35,
   "metadata": {},
   "outputs": [],
   "source": [
    "res = preprocess_twin(*exampple)"
   ]
  },
  {
   "cell_type": "code",
   "execution_count": 36,
   "metadata": {},
   "outputs": [
    {
     "data": {
      "text/plain": [
       "<matplotlib.image.AxesImage at 0x1ffbf71ecc8>"
      ]
     },
     "execution_count": 36,
     "metadata": {},
     "output_type": "execute_result"
    },
    {
     "data": {
      "image/png": "[encoded data removed]",
      "text/plain": [
       "<Figure size 432x288 with 1 Axes>"
      ]
     },
     "metadata": {
      "needs_background": "light"
     },
     "output_type": "display_data"
    }
   ],
   "source": [
    "plt.imshow(res[1])"
   ]
  },
  {
   "cell_type": "code",
   "execution_count": 37,
   "metadata": {},
   "outputs": [
    {
     "data": {
      "text/plain": [
       "<tf.Tensor: shape=(100, 100, 3), dtype=float32, numpy=\n",
       "array([[[0.7117647 , 0.7588235 , 0.74313724],\n",
       "        [0.7171569 , 0.76029414, 0.74460787],\n",
       "        [0.7286765 , 0.76593137, 0.7531863 ],\n",
       "        ...,\n",
       "        [0.59387255, 0.6213235 , 0.55269605],\n",
       "        [0.6406863 , 0.66519606, 0.60833335],\n",
       "        [0.64215684, 0.66568625, 0.6107843 ]],\n",
       "\n",
       "       [[0.7235294 , 0.76960784, 0.75392157],\n",
       "        [0.7289216 , 0.77156866, 0.7561275 ],\n",
       "        [0.7345588 , 0.7713235 , 0.7588235 ],\n",
       "        ...,\n",
       "        [0.55710787, 0.5806373 , 0.52205884],\n",
       "        [0.6215686 , 0.64215684, 0.5901961 ],\n",
       "        [0.6509804 , 0.67156863, 0.6254902 ]],\n",
       "\n",
       "       [[0.7264706 , 0.76960784, 0.75392157],\n",
       "        [0.73014706, 0.7713235 , 0.75661767],\n",
       "        [0.72843134, 0.7637255 , 0.7519608 ],\n",
       "        ...,\n",
       "        [0.4997549 , 0.5093137 , 0.4639706 ],\n",
       "        [0.59313726, 0.6041667 , 0.5654412 ],\n",
       "        [0.63039213, 0.64215684, 0.60490197]],\n",
       "\n",
       "       ...,\n",
       "\n",
       "       [[0.7343137 , 0.77254903, 0.7441176 ],\n",
       "        [0.72769606, 0.76715684, 0.73995095],\n",
       "        [0.7257353 , 0.76887256, 0.74534315],\n",
       "        ...,\n",
       "        [0.03357843, 0.05098039, 0.05612745],\n",
       "        [0.04019608, 0.05686275, 0.06862745],\n",
       "        [0.0382353 , 0.05490196, 0.06764706]],\n",
       "\n",
       "       [[0.7323529 , 0.7676471 , 0.75392157],\n",
       "        [0.7294118 , 0.7651961 , 0.7512255 ],\n",
       "        [0.7242647 , 0.76593137, 0.7490196 ],\n",
       "        ...,\n",
       "        [0.0252451 , 0.04852941, 0.04926471],\n",
       "        [0.02843137, 0.04877451, 0.05833333],\n",
       "        [0.03529412, 0.05490196, 0.06764706]],\n",
       "\n",
       "       [[0.7254902 , 0.7607843 , 0.75686276],\n",
       "        [0.7264706 , 0.7617647 , 0.7558824 ],\n",
       "        [0.7352941 , 0.7764706 , 0.7617647 ],\n",
       "        ...,\n",
       "        [0.02132353, 0.04485294, 0.03553922],\n",
       "        [0.02352941, 0.04705882, 0.03921569],\n",
       "        [0.02745098, 0.05098039, 0.04754902]]], dtype=float32)>"
      ]
     },
     "execution_count": 37,
     "metadata": {},
     "output_type": "execute_result"
    }
   ],
   "source": [
    "res[1]"
   ]
  },
  {
   "cell_type": "code",
   "execution_count": 38,
   "metadata": {},
   "outputs": [],
   "source": [
    "# Build dataloader pipeline\n",
    "data = data.map(preprocess_twin)\n",
    "data = data.cache()\n",
    "data = data.shuffle(buffer_size=10000)"
   ]
  },
  {
   "cell_type": "code",
   "execution_count": 39,
   "metadata": {},
   "outputs": [
    {
     "data": {
      "text/plain": [
       "622"
      ]
     },
     "execution_count": 39,
     "metadata": {},
     "output_type": "execute_result"
    }
   ],
   "source": [
    "round(len(data))"
   ]
  },
  {
   "cell_type": "code",
   "execution_count": 40,
   "metadata": {},
   "outputs": [],
   "source": [
    "# Training partition\n",
    "train_data = data.take(round(len(data)*.7))\n",
    "train_data = train_data.batch(16)\n",
    "train_data = train_data.prefetch(8)"
   ]
  },
  {
   "cell_type": "code",
   "execution_count": 41,
   "metadata": {},
   "outputs": [],
   "source": [
    "# Testing partition\n",
    "test_data = data.skip(round(len(data)*.7))\n",
    "test_data = test_data.take(round(len(data)*.3))\n",
    "test_data = test_data.batch(16)\n",
    "test_data = test_data.prefetch(8)"
   ]
  },
  {
   "cell_type": "markdown",
   "metadata": {},
   "source": [
    "# 4. Model Engineering"
   ]
  },
  {
   "cell_type": "markdown",
   "metadata": {},
   "source": [
    "Build Embedding Layer"
   ]
  },
  {
   "attachments": {
    "image.png": {
     "image/png": "[encoded data removed]"
    }
   },
   "cell_type": "markdown",
   "metadata": {},
   "source": [
    "![image.png](attachment:image.png)"
   ]
  },
  {
   "cell_type": "code",
   "execution_count": 42,
   "metadata": {},
   "outputs": [],
   "source": [
    "inp = Input(shape=(100,100,3), name='input_image')"
   ]
  },
  {
   "cell_type": "code",
   "execution_count": 43,
   "metadata": {},
   "outputs": [],
   "source": [
    "c1 = Conv2D(64, (10,10), activation='relu')(inp)"
   ]
  },
  {
   "cell_type": "code",
   "execution_count": 44,
   "metadata": {},
   "outputs": [],
   "source": [
    "m1 = MaxPooling2D(64, (2,2), padding='same')(c1)"
   ]
  },
  {
   "cell_type": "code",
   "execution_count": 45,
   "metadata": {},
   "outputs": [],
   "source": [
    "c2 = Conv2D(128, (7,7), activation='relu')(m1)\n",
    "m2 = MaxPooling2D(64, (2,2), padding='same')(c2)"
   ]
  },
  {
   "cell_type": "code",
   "execution_count": 46,
   "metadata": {},
   "outputs": [],
   "source": [
    "c3 = Conv2D(128, (4,4), activation='relu')(m2)\n",
    "m3 = MaxPooling2D(64, (2,2), padding='same')(c3)"
   ]
  },
  {
   "cell_type": "code",
   "execution_count": 47,
   "metadata": {},
   "outputs": [],
   "source": [
    "c4 = Conv2D(256, (4,4), activation='relu')(m3)\n",
    "f1 = Flatten()(c4)\n",
    "d1 = Dense(4096, activation='sigmoid')(f1)"
   ]
  },
  {
   "cell_type": "code",
   "execution_count": 48,
   "metadata": {},
   "outputs": [],
   "source": [
    "mod = Model(inputs=[inp], outputs=[d1], name='embedding')"
   ]
  },
  {
   "cell_type": "code",
   "execution_count": 49,
   "metadata": {},
   "outputs": [
    {
     "name": "stdout",
     "output_type": "stream",
     "text": [
      "Model: \"embedding\"\n",
      "_________________________________________________________________\n",
      "Layer (type)                 Output Shape              Param #   \n",
      "=================================================================\n",
      "input_image (InputLayer)     [(None, 100, 100, 3)]     0         \n",
      "_________________________________________________________________\n",
      "conv2d (Conv2D)              (None, 91, 91, 64)        19264     \n",
      "_________________________________________________________________\n",
      "max_pooling2d (MaxPooling2D) (None, 46, 46, 64)        0         \n",
      "_________________________________________________________________\n",
      "conv2d_1 (Conv2D)            (None, 40, 40, 128)       401536    \n",
      "_________________________________________________________________\n",
      "max_pooling2d_1 (MaxPooling2 (None, 20, 20, 128)       0         \n",
      "_________________________________________________________________\n",
      "conv2d_2 (Conv2D)            (None, 17, 17, 128)       262272    \n",
      "_________________________________________________________________\n",
      "max_pooling2d_2 (MaxPooling2 (None, 9, 9, 128)         0         \n",
      "_________________________________________________________________\n",
      "conv2d_3 (Conv2D)            (None, 6, 6, 256)         524544    \n",
      "_________________________________________________________________\n",
      "flatten (Flatten)            (None, 9216)              0         \n",
      "_________________________________________________________________\n",
      "dense (Dense)                (None, 4096)              37752832  \n",
      "=================================================================\n",
      "Total params: 38,960,448\n",
      "Trainable params: 38,960,448\n",
      "Non-trainable params: 0\n",
      "_________________________________________________________________\n"
     ]
    }
   ],
   "source": [
    "mod.summary()"
   ]
  },
  {
   "cell_type": "code",
   "execution_count": 50,
   "metadata": {},
   "outputs": [],
   "source": [
    "def make_embedding(): \n",
    "    inp = Input(shape=(100,100,3), name='input_image')\n",
    "    \n",
    "    # First block\n",
    "    c1 = Conv2D(64, (10,10), activation='relu')(inp)\n",
    "    m1 = MaxPooling2D(64, (2,2), padding='same')(c1)\n",
    "    \n",
    "    # Second block\n",
    "    c2 = Conv2D(128, (7,7), activation='relu')(m1)\n",
    "    m2 = MaxPooling2D(64, (2,2), padding='same')(c2)\n",
    "    \n",
    "    # Third block \n",
    "    c3 = Conv2D(128, (4,4), activation='relu')(m2)\n",
    "    m3 = MaxPooling2D(64, (2,2), padding='same')(c3)\n",
    "    \n",
    "    # Final embedding block\n",
    "    c4 = Conv2D(256, (4,4), activation='relu')(m3)\n",
    "    f1 = Flatten()(c4)\n",
    "    d1 = Dense(4096, activation='sigmoid')(f1)\n",
    "    \n",
    "    \n",
    "    return Model(inputs=[inp], outputs=[d1], name='embedding')"
   ]
  },
  {
   "cell_type": "code",
   "execution_count": 51,
   "metadata": {},
   "outputs": [],
   "source": [
    "embedding = make_embedding()"
   ]
  },
  {
   "cell_type": "code",
   "execution_count": 52,
   "metadata": {},
   "outputs": [
    {
     "name": "stdout",
     "output_type": "stream",
     "text": [
      "Model: \"embedding\"\n",
      "_________________________________________________________________\n",
      "Layer (type)                 Output Shape              Param #   \n",
      "=================================================================\n",
      "input_image (InputLayer)     [(None, 100, 100, 3)]     0         \n",
      "_________________________________________________________________\n",
      "conv2d_4 (Conv2D)            (None, 91, 91, 64)        19264     \n",
      "_________________________________________________________________\n",
      "max_pooling2d_3 (MaxPooling2 (None, 46, 46, 64)        0         \n",
      "_________________________________________________________________\n",
      "conv2d_5 (Conv2D)            (None, 40, 40, 128)       401536    \n",
      "_________________________________________________________________\n",
      "max_pooling2d_4 (MaxPooling2 (None, 20, 20, 128)       0         \n",
      "_________________________________________________________________\n",
      "conv2d_6 (Conv2D)            (None, 17, 17, 128)       262272    \n",
      "_________________________________________________________________\n",
      "max_pooling2d_5 (MaxPooling2 (None, 9, 9, 128)         0         \n",
      "_________________________________________________________________\n",
      "conv2d_7 (Conv2D)            (None, 6, 6, 256)         524544    \n",
      "_________________________________________________________________\n",
      "flatten_1 (Flatten)          (None, 9216)              0         \n",
      "_________________________________________________________________\n",
      "dense_1 (Dense)              (None, 4096)              37752832  \n",
      "=================================================================\n",
      "Total params: 38,960,448\n",
      "Trainable params: 38,960,448\n",
      "Non-trainable params: 0\n",
      "_________________________________________________________________\n"
     ]
    }
   ],
   "source": [
    "embedding.summary()"
   ]
  },
  {
   "cell_type": "markdown",
   "metadata": {},
   "source": [
    "Build Distance Layer"
   ]
  },
  {
   "attachments": {
    "image.png": {
     "image/png": "[encoded data removed]"
    }
   },
   "cell_type": "markdown",
   "metadata": {},
   "source": [
    "![image.png](attachment:image.png)"
   ]
  },
  {
   "cell_type": "code",
   "execution_count": 53,
   "metadata": {},
   "outputs": [],
   "source": [
    "# Siamese L1 Distance class\n",
    "class L1Dist(Layer):\n",
    "    \n",
    "    # Init method - inheritance\n",
    "    def __init__(self, **kwargs):\n",
    "        super().__init__()\n",
    "       \n",
    "    # Magic happens here - similarity calculation\n",
    "    def call(self, input_embedding, validation_embedding):\n",
    "        return tf.math.abs(input_embedding - validation_embedding)"
   ]
  },
  {
   "cell_type": "code",
   "execution_count": 54,
   "metadata": {},
   "outputs": [],
   "source": [
    "l1 = L1Dist()"
   ]
  },
  {
   "cell_type": "code",
   "execution_count": 55,
   "metadata": {},
   "outputs": [
    {
     "ename": "NameError",
     "evalue": "name 'anchor_embedding' is not defined",
     "output_type": "error",
     "traceback": [
      "\u001b[1;31m---------------------------------------------------------------------------\u001b[0m",
      "\u001b[1;31mNameError\u001b[0m                                 Traceback (most recent call last)",
      "\u001b[1;32m<ipython-input-55-48b6f0b2098a>\u001b[0m in \u001b[0;36m<module>\u001b[1;34m\u001b[0m\n\u001b[1;32m----> 1\u001b[1;33m \u001b[0ml1\u001b[0m\u001b[1;33m(\u001b[0m\u001b[0manchor_embedding\u001b[0m\u001b[1;33m,\u001b[0m \u001b[0mvalidation_embedding\u001b[0m\u001b[1;33m)\u001b[0m\u001b[1;33m\u001b[0m\u001b[1;33m\u001b[0m\u001b[0m\n\u001b[0m",
      "\u001b[1;31mNameError\u001b[0m: name 'anchor_embedding' is not defined"
     ]
    }
   ],
   "source": [
    "l1(anchor_embedding, validation_embedding)"
   ]
  },
  {
   "cell_type": "markdown",
   "metadata": {},
   "source": [
    "Make Siamese Model"
   ]
  },
  {
   "cell_type": "code",
   "execution_count": 56,
   "metadata": {},
   "outputs": [],
   "source": [
    "input_image = Input(name='input_img', shape=(100,100,3))\n",
    "validation_image = Input(name='validation_img', shape=(100,100,3))"
   ]
  },
  {
   "cell_type": "code",
   "execution_count": 57,
   "metadata": {},
   "outputs": [],
   "source": [
    "inp_embedding = embedding(input_image)\n",
    "val_embedding = embedding(validation_image)"
   ]
  },
  {
   "cell_type": "code",
   "execution_count": 58,
   "metadata": {},
   "outputs": [],
   "source": [
    "siamese_layer = L1Dist()\n"
   ]
  },
  {
   "cell_type": "code",
   "execution_count": 59,
   "metadata": {},
   "outputs": [],
   "source": [
    "distances = siamese_layer(inp_embedding, val_embedding)\n"
   ]
  },
  {
   "cell_type": "code",
   "execution_count": 60,
   "metadata": {},
   "outputs": [],
   "source": [
    "classifier = Dense(1, activation='sigmoid')(distances)\n"
   ]
  },
  {
   "cell_type": "code",
   "execution_count": 61,
   "metadata": {},
   "outputs": [
    {
     "data": {
      "text/plain": [
       "<KerasTensor: shape=(None, 1) dtype=float32 (created by layer 'dense_2')>"
      ]
     },
     "execution_count": 61,
     "metadata": {},
     "output_type": "execute_result"
    }
   ],
   "source": [
    "classifier\n"
   ]
  },
  {
   "cell_type": "code",
   "execution_count": 62,
   "metadata": {},
   "outputs": [],
   "source": [
    "siamese_network = Model(inputs=[input_image, validation_image], outputs=classifier, name='SiameseNetwork')"
   ]
  },
  {
   "cell_type": "code",
   "execution_count": 63,
   "metadata": {},
   "outputs": [
    {
     "name": "stdout",
     "output_type": "stream",
     "text": [
      "Model: \"SiameseNetwork\"\n",
      "__________________________________________________________________________________________________\n",
      "Layer (type)                    Output Shape         Param #     Connected to                     \n",
      "==================================================================================================\n",
      "input_img (InputLayer)          [(None, 100, 100, 3) 0                                            \n",
      "__________________________________________________________________________________________________\n",
      "validation_img (InputLayer)     [(None, 100, 100, 3) 0                                            \n",
      "__________________________________________________________________________________________________\n",
      "embedding (Functional)          (None, 4096)         38960448    input_img[0][0]                  \n",
      "                                                                 validation_img[0][0]             \n",
      "__________________________________________________________________________________________________\n",
      "l1_dist_1 (L1Dist)              (None, 4096)         0           embedding[0][0]                  \n",
      "                                                                 embedding[1][0]                  \n",
      "__________________________________________________________________________________________________\n",
      "dense_2 (Dense)                 (None, 1)            4097        l1_dist_1[0][0]                  \n",
      "==================================================================================================\n",
      "Total params: 38,964,545\n",
      "Trainable params: 38,964,545\n",
      "Non-trainable params: 0\n",
      "__________________________________________________________________________________________________\n"
     ]
    }
   ],
   "source": [
    "siamese_network.summary()"
   ]
  },
  {
   "cell_type": "code",
   "execution_count": 64,
   "metadata": {},
   "outputs": [],
   "source": [
    "def make_siamese_model(): \n",
    "    \n",
    "    # Anchor image input in the network\n",
    "    input_image = Input(name='input_img', shape=(100,100,3))\n",
    "    \n",
    "    # Validation image in the network \n",
    "    validation_image = Input(name='validation_img', shape=(100,100,3))\n",
    "    \n",
    "    # Combine siamese distance components\n",
    "    siamese_layer = L1Dist()\n",
    "    siamese_layer._name = 'distance'\n",
    "    distances = siamese_layer(embedding(input_image), embedding(validation_image))\n",
    "    \n",
    "    # Classification layer \n",
    "    classifier = Dense(1, activation='sigmoid')(distances)\n",
    "    \n",
    "    return Model(inputs=[input_image, validation_image], outputs=classifier, name='SiameseNetwork')"
   ]
  },
  {
   "cell_type": "code",
   "execution_count": 65,
   "metadata": {},
   "outputs": [],
   "source": [
    "siamese_model = make_siamese_model()"
   ]
  },
  {
   "cell_type": "code",
   "execution_count": 66,
   "metadata": {},
   "outputs": [
    {
     "name": "stdout",
     "output_type": "stream",
     "text": [
      "Model: \"SiameseNetwork\"\n",
      "__________________________________________________________________________________________________\n",
      "Layer (type)                    Output Shape         Param #     Connected to                     \n",
      "==================================================================================================\n",
      "input_img (InputLayer)          [(None, 100, 100, 3) 0                                            \n",
      "__________________________________________________________________________________________________\n",
      "validation_img (InputLayer)     [(None, 100, 100, 3) 0                                            \n",
      "__________________________________________________________________________________________________\n",
      "embedding (Functional)          (None, 4096)         38960448    input_img[0][0]                  \n",
      "                                                                 validation_img[0][0]             \n",
      "__________________________________________________________________________________________________\n",
      "distance (L1Dist)               (None, 4096)         0           embedding[2][0]                  \n",
      "                                                                 embedding[3][0]                  \n",
      "__________________________________________________________________________________________________\n",
      "dense_3 (Dense)                 (None, 1)            4097        distance[0][0]                   \n",
      "==================================================================================================\n",
      "Total params: 38,964,545\n",
      "Trainable params: 38,964,545\n",
      "Non-trainable params: 0\n",
      "__________________________________________________________________________________________________\n"
     ]
    }
   ],
   "source": [
    "siamese_model.summary()"
   ]
  },
  {
   "cell_type": "markdown",
   "metadata": {},
   "source": [
    "# 5. Training\n"
   ]
  },
  {
   "cell_type": "code",
   "execution_count": 67,
   "metadata": {},
   "outputs": [],
   "source": [
    "#Setup Loss \n",
    "binary_cross_loss = tf.losses.BinaryCrossentropy()"
   ]
  },
  {
   "cell_type": "code",
   "execution_count": 68,
   "metadata": {},
   "outputs": [],
   "source": [
    "# Optimizer using ADam opyimaser method\n",
    "opt = tf.keras.optimizers.Adam(1e-4) # 0.0001"
   ]
  },
  {
   "cell_type": "code",
   "execution_count": 69,
   "metadata": {},
   "outputs": [],
   "source": [
    "#Establish Checkpoints\n",
    "checkpoint_dir = './training_checkpoints'\n",
    "checkpoint_prefix = os.path.join(checkpoint_dir, 'ckpt')\n",
    "checkpoint = tf.train.Checkpoint(opt=opt, siamese_model=siamese_model)"
   ]
  },
  {
   "cell_type": "raw",
   "metadata": {},
   "source": [
    "Build Train Step Function"
   ]
  },
  {
   "cell_type": "code",
   "execution_count": 70,
   "metadata": {},
   "outputs": [],
   "source": [
    "test_batch = train_data.as_numpy_iterator()"
   ]
  },
  {
   "cell_type": "code",
   "execution_count": 71,
   "metadata": {},
   "outputs": [],
   "source": [
    "batch_1 = test_batch.next()"
   ]
  },
  {
   "cell_type": "code",
   "execution_count": 72,
   "metadata": {},
   "outputs": [],
   "source": [
    "X = batch_1[:2]"
   ]
  },
  {
   "cell_type": "code",
   "execution_count": 73,
   "metadata": {},
   "outputs": [],
   "source": [
    "y = batch_1[2]"
   ]
  },
  {
   "cell_type": "code",
   "execution_count": 74,
   "metadata": {},
   "outputs": [],
   "source": [
    "tf.losses.BinaryCrossentropy??"
   ]
  },
  {
   "cell_type": "raw",
   "metadata": {},
   "source": [
    "https://www.tensorflow.org/guide/function\n",
    "https://www.tensorflow.org/api_docs/python/tf/GradientTape\n",
    "By default GradientTape will automatically watch any trainable variables that are accessed inside the context"
   ]
  },
  {
   "cell_type": "code",
   "execution_count": 75,
   "metadata": {},
   "outputs": [],
   "source": [
    "@tf.function\n",
    "def train_step(batch):\n",
    "    \n",
    "    # Record all of our operations \n",
    "    with tf.GradientTape() as tape:     \n",
    "        # Get anchor and positive/negative image\n",
    "        X = batch[:2]\n",
    "        # Get label\n",
    "        y = batch[2]\n",
    "        \n",
    "        # Forward pass\n",
    "        yhat = siamese_model(X, training=True)\n",
    "        # Calculate loss\n",
    "        loss = binary_cross_loss(y, yhat)\n",
    "    print(loss)\n",
    "        \n",
    "    # Calculate gradients\n",
    "    grad = tape.gradient(loss, siamese_model.trainable_variables)\n",
    "    \n",
    "    # Calculate updated weights and apply to siamese model\n",
    "    opt.apply_gradients(zip(grad, siamese_model.trainable_variables))\n",
    "        \n",
    "    # Return loss\n",
    "    return loss"
   ]
  },
  {
   "cell_type": "raw",
   "metadata": {},
   "source": [
    "Build Training Loop"
   ]
  },
  {
   "cell_type": "code",
   "execution_count": 76,
   "metadata": {},
   "outputs": [],
   "source": [
    "# Import metric calculations\n",
    "from tensorflow.keras.metrics import Precision, Recall"
   ]
  },
  {
   "cell_type": "code",
   "execution_count": 77,
   "metadata": {},
   "outputs": [],
   "source": [
    "def train(data, EPOCHS):\n",
    "    # Loop through epochs\n",
    "    for epoch in range(1, EPOCHS+1):\n",
    "        print('\\n Epoch {}/{}'.format(epoch, EPOCHS))\n",
    "        progbar = tf.keras.utils.Progbar(len(data))\n",
    "        \n",
    "        # Creating a metric object \n",
    "        r = Recall()\n",
    "        p = Precision()\n",
    "        \n",
    "        # Loop through each batch\n",
    "        for idx, batch in enumerate(data):\n",
    "            # Run train step here\n",
    "            loss = train_step(batch)\n",
    "            yhat = siamese_model.predict(batch[:2])\n",
    "            r.update_state(batch[2], yhat)\n",
    "            p.update_state(batch[2], yhat) \n",
    "            progbar.update(idx+1)\n",
    "        print(loss.numpy(), r.result().numpy(), p.result().numpy())\n",
    "        \n",
    "        # Save checkpoints\n",
    "        if epoch % 10 == 0: \n",
    "            checkpoint.save(file_prefix=checkpoint_prefix)"
   ]
  },
  {
   "cell_type": "raw",
   "metadata": {},
   "source": [
    "Train the model"
   ]
  },
  {
   "cell_type": "code",
   "execution_count": 79,
   "metadata": {},
   "outputs": [],
   "source": [
    "EPOCHS = 10"
   ]
  },
  {
   "cell_type": "code",
   "execution_count": 80,
   "metadata": {},
   "outputs": [
    {
     "name": "stdout",
     "output_type": "stream",
     "text": [
      "\n",
      " Epoch 1/10\n",
      "Tensor(\"binary_crossentropy/weighted_loss/value:0\", shape=(), dtype=float32)\n",
      "Tensor(\"binary_crossentropy/weighted_loss/value:0\", shape=(), dtype=float32)\n",
      "27/28 [===========================>..] - ETA: 20sTensor(\"binary_crossentropy/weighted_loss/value:0\", shape=(), dtype=float32)\n",
      "28/28 [==============================] - 615s 20s/step\n",
      "0.01659379 0.91150445 0.91964287\n",
      "\n",
      " Epoch 2/10\n",
      "28/28 [==============================] - 556s 20s/step\n",
      "0.0013690889 0.9818182 1.0\n",
      "\n",
      " Epoch 3/10\n",
      "28/28 [==============================] - 548s 20s/step\n",
      "0.0318068 0.9953271 0.9953271\n",
      "\n",
      " Epoch 4/10\n",
      "28/28 [==============================] - 543s 19s/step\n",
      "0.005775587 0.9814815 1.0\n",
      "\n",
      " Epoch 5/10\n",
      "28/28 [==============================] - 527s 19s/step\n",
      "0.0004192354 0.9908257 0.9953917\n",
      "\n",
      " Epoch 6/10\n",
      "28/28 [==============================] - 506s 18s/step\n",
      "0.00047309298 0.9904762 0.9904762\n",
      "\n",
      " Epoch 7/10\n",
      "28/28 [==============================] - 507s 18s/step\n",
      "0.0007937272 0.9952153 0.9952153\n",
      "\n",
      " Epoch 8/10\n",
      "28/28 [==============================] - 526s 19s/step\n",
      "0.0013573384 0.99557525 1.0\n",
      "\n",
      " Epoch 9/10\n",
      "28/28 [==============================] - 511s 18s/step\n",
      "2.6623782e-05 0.9953271 0.9953271\n",
      "\n",
      " Epoch 10/10\n",
      "28/28 [==============================] - 528s 19s/step\n",
      "0.00015679689 1.0 1.0\n"
     ]
    }
   ],
   "source": [
    "train(train_data, EPOCHS)"
   ]
  },
  {
   "cell_type": "markdown",
   "metadata": {},
   "source": [
    "# 6. Evaluate Model\n"
   ]
  },
  {
   "cell_type": "markdown",
   "metadata": {},
   "source": [
    "# "
   ]
  },
  {
   "cell_type": "markdown",
   "metadata": {},
   "source": [
    "Import Metrics"
   ]
  },
  {
   "cell_type": "code",
   "execution_count": 81,
   "metadata": {},
   "outputs": [],
   "source": [
    "# Import metric calculations\n",
    "from tensorflow.keras.metrics import Precision, Recall"
   ]
  },
  {
   "cell_type": "markdown",
   "metadata": {},
   "source": [
    "Make Predictions"
   ]
  },
  {
   "cell_type": "code",
   "execution_count": 82,
   "metadata": {},
   "outputs": [],
   "source": [
    "# Get a batch of test data\n",
    "test_input, test_val, y_true = test_data.as_numpy_iterator().next()"
   ]
  },
  {
   "cell_type": "code",
   "execution_count": 83,
   "metadata": {},
   "outputs": [],
   "source": [
    "y_hat = siamese_model.predict([test_input, test_val])"
   ]
  },
  {
   "cell_type": "code",
   "execution_count": 84,
   "metadata": {},
   "outputs": [
    {
     "data": {
      "text/plain": [
       "[0, 0, 1, 0, 0, 0, 0, 1, 0, 1, 0, 0, 0, 0, 1, 0]"
      ]
     },
     "execution_count": 84,
     "metadata": {},
     "output_type": "execute_result"
    }
   ],
   "source": [
    "# Post processing the results \n",
    "[1 if prediction > 0.5 else 0 for prediction in y_hat ]"
   ]
  },
  {
   "cell_type": "code",
   "execution_count": 85,
   "metadata": {},
   "outputs": [
    {
     "data": {
      "text/plain": [
       "array([0., 0., 1., 0., 0., 0., 0., 1., 0., 1., 0., 0., 0., 0., 1., 0.],\n",
       "      dtype=float32)"
      ]
     },
     "execution_count": 85,
     "metadata": {},
     "output_type": "execute_result"
    }
   ],
   "source": [
    "y_true"
   ]
  },
  {
   "cell_type": "markdown",
   "metadata": {},
   "source": [
    "Calculate Metrics"
   ]
  },
  {
   "cell_type": "code",
   "execution_count": 86,
   "metadata": {},
   "outputs": [
    {
     "data": {
      "text/plain": [
       "1.0"
      ]
     },
     "execution_count": 86,
     "metadata": {},
     "output_type": "execute_result"
    }
   ],
   "source": [
    "# Creating a metric object \n",
    "m = Recall()\n",
    "\n",
    "# Calculating the recall value \n",
    "m.update_state(y_true, y_hat)\n",
    "\n",
    "# Return Recall Result\n",
    "m.result().numpy()"
   ]
  },
  {
   "cell_type": "code",
   "execution_count": 87,
   "metadata": {},
   "outputs": [
    {
     "data": {
      "text/plain": [
       "1.0"
      ]
     },
     "execution_count": 87,
     "metadata": {},
     "output_type": "execute_result"
    }
   ],
   "source": [
    "# Creating a metric object \n",
    "m = Precision()\n",
    "\n",
    "# Calculating the recall value \n",
    "m.update_state(y_true, y_hat)\n",
    "\n",
    "# Return Recall Result\n",
    "m.result().numpy()"
   ]
  },
  {
   "cell_type": "code",
   "execution_count": 88,
   "metadata": {},
   "outputs": [
    {
     "name": "stdout",
     "output_type": "stream",
     "text": [
      "1.0 0.99\n"
     ]
    }
   ],
   "source": [
    "r = Recall()\n",
    "p = Precision()\n",
    "\n",
    "for test_input, test_val, y_true in test_data.as_numpy_iterator():\n",
    "    yhat = siamese_model.predict([test_input, test_val])\n",
    "    r.update_state(y_true, yhat)\n",
    "    p.update_state(y_true,yhat) \n",
    "\n",
    "print(r.result().numpy(), p.result().numpy())"
   ]
  },
  {
   "cell_type": "markdown",
   "metadata": {},
   "source": [
    "Viz Results"
   ]
  },
  {
   "cell_type": "code",
   "execution_count": 93,
   "metadata": {},
   "outputs": [
    {
     "data": {
      "image/png": "[encoded data removed]",
      "text/plain": [
       "<Figure size 720x576 with 2 Axes>"
      ]
     },
     "metadata": {
      "needs_background": "light"
     },
     "output_type": "display_data"
    }
   ],
   "source": [
    "# Set plot size \n",
    "plt.figure(figsize=(10,8))\n",
    "\n",
    "# Set first subplot\n",
    "plt.subplot(1,2,1)\n",
    "plt.imshow(test_input[9])\n",
    "\n",
    "# Set second subplot\n",
    "plt.subplot(1,2,2)\n",
    "plt.imshow(test_val[9])\n",
    "\n",
    "# Renders cleanly\n",
    "plt.show()"
   ]
  },
  {
   "cell_type": "markdown",
   "metadata": {},
   "source": [
    "# 7. Save Model"
   ]
  },
  {
   "cell_type": "code",
   "execution_count": 94,
   "metadata": {},
   "outputs": [],
   "source": [
    "# Save weights\n",
    "siamese_model.save('siamesemodelv2.h5')"
   ]
  },
  {
   "cell_type": "code",
   "execution_count": 95,
   "metadata": {},
   "outputs": [
    {
     "data": {
      "text/plain": [
       "__main__.L1Dist"
      ]
     },
     "execution_count": 95,
     "metadata": {},
     "output_type": "execute_result"
    }
   ],
   "source": [
    "L1Dist"
   ]
  },
  {
   "cell_type": "code",
   "execution_count": 96,
   "metadata": {},
   "outputs": [
    {
     "name": "stdout",
     "output_type": "stream",
     "text": [
      "WARNING:tensorflow:No training configuration found in the save file, so the model was *not* compiled. Compile it manually.\n"
     ]
    }
   ],
   "source": [
    "# Reload model \n",
    "siamese_model = tf.keras.models.load_model('siamesemodelv2.h5', \n",
    "                                   custom_objects={'L1Dist':L1Dist, 'BinaryCrossentropy':tf.losses.BinaryCrossentropy})"
   ]
  },
  {
   "cell_type": "code",
   "execution_count": 97,
   "metadata": {},
   "outputs": [
    {
     "data": {
      "text/plain": [
       "array([[2.2887866e-06],\n",
       "       [2.1600723e-04],\n",
       "       [9.9342453e-01],\n",
       "       [9.9973464e-01],\n",
       "       [9.9988687e-01],\n",
       "       [9.6358854e-06],\n",
       "       [4.3994188e-04],\n",
       "       [1.6378348e-05],\n",
       "       [1.8556595e-06],\n",
       "       [9.9998856e-01],\n",
       "       [3.5912672e-06]], dtype=float32)"
      ]
     },
     "execution_count": 97,
     "metadata": {},
     "output_type": "execute_result"
    }
   ],
   "source": [
    "# Make predictions with reloaded model\n",
    "siamese_model.predict([test_input, test_val])"
   ]
  },
  {
   "cell_type": "code",
   "execution_count": 98,
   "metadata": {},
   "outputs": [
    {
     "name": "stdout",
     "output_type": "stream",
     "text": [
      "Model: \"SiameseNetwork\"\n",
      "__________________________________________________________________________________________________\n",
      "Layer (type)                    Output Shape         Param #     Connected to                     \n",
      "==================================================================================================\n",
      "input_img (InputLayer)          [(None, 100, 100, 3) 0                                            \n",
      "__________________________________________________________________________________________________\n",
      "validation_img (InputLayer)     [(None, 100, 100, 3) 0                                            \n",
      "__________________________________________________________________________________________________\n",
      "embedding (Functional)          (None, 4096)         38960448    input_img[0][0]                  \n",
      "                                                                 validation_img[0][0]             \n",
      "__________________________________________________________________________________________________\n",
      "l1_dist_3 (L1Dist)              (None, 4096)         0           embedding[0][0]                  \n",
      "                                                                 embedding[1][0]                  \n",
      "__________________________________________________________________________________________________\n",
      "dense_3 (Dense)                 (None, 1)            4097        l1_dist_3[0][0]                  \n",
      "==================================================================================================\n",
      "Total params: 38,964,545\n",
      "Trainable params: 38,964,545\n",
      "Non-trainable params: 0\n",
      "__________________________________________________________________________________________________\n"
     ]
    }
   ],
   "source": [
    "# View model summary\n",
    "siamese_model.summary()"
   ]
  },
  {
   "cell_type": "markdown",
   "metadata": {},
   "source": [
    "# 8. Real Time Test"
   ]
  },
  {
   "cell_type": "markdown",
   "metadata": {},
   "source": [
    "Verification Function"
   ]
  },
  {
   "cell_type": "code",
   "execution_count": 99,
   "metadata": {},
   "outputs": [
    {
     "ename": "SyntaxError",
     "evalue": "unexpected character after line continuation character (<ipython-input-99-10b5f818160f>, line 1)",
     "output_type": "error",
     "traceback": [
      "\u001b[1;36m  File \u001b[1;32m\"<ipython-input-99-10b5f818160f>\"\u001b[1;36m, line \u001b[1;32m1\u001b[0m\n\u001b[1;33m    application_data\\verification_images\u001b[0m\n\u001b[1;37m                                        ^\u001b[0m\n\u001b[1;31mSyntaxError\u001b[0m\u001b[1;31m:\u001b[0m unexpected character after line continuation character\n"
     ]
    }
   ],
   "source": [
    "application_data\\verification_images"
   ]
  },
  {
   "cell_type": "code",
   "execution_count": 100,
   "metadata": {},
   "outputs": [
    {
     "data": {
      "text/plain": [
       "['000ed328-9b68-11ed-bb66-3ca0675cea1e.jpg',\n",
       " '000fbc8c-9b68-11ed-9f4a-3ca0675cea1e.jpg',\n",
       " '00b29290-9b68-11ed-81ae-3ca0675cea1e.jpg',\n",
       " '00b30728-9b68-11ed-b33e-3ca0675cea1e.jpg',\n",
       " '00b35528-9b68-11ed-8b29-3ca0675cea1e.jpg',\n",
       " '00c3d7d4-9b68-11ed-99d8-3ca0675cea1e.jpg',\n",
       " '00c4c2b4-9b68-11ed-9c65-3ca0675cea1e.jpg',\n",
       " '00c511cc-9b68-11ed-9f1c-3ca0675cea1e.jpg',\n",
       " '00cab3de-9b68-11ed-af65-3ca0675cea1e.jpg',\n",
       " '00cb01dc-9b68-11ed-8651-3ca0675cea1e.jpg',\n",
       " '00d13c70-9b68-11ed-95ad-3ca0675cea1e.jpg',\n",
       " '00d18a7e-9b68-11ed-a0c5-3ca0675cea1e.jpg',\n",
       " '00d2263a-9b68-11ed-8a44-3ca0675cea1e.jpg',\n",
       " '00d2e912-9b68-11ed-9577-3ca0675cea1e.jpg',\n",
       " '00dde5b0-9b68-11ed-abb2-3ca0675cea1e.jpg',\n",
       " '0a02e7fe-9b68-11ed-aebc-3ca0675cea1e.jpg',\n",
       " '0a03d1ba-9b68-11ed-961e-3ca0675cea1e.jpg',\n",
       " '0a0e5dfe-9b68-11ed-98de-3ca0675cea1e.jpg',\n",
       " '0a0eee3e-9b68-11ed-84be-3ca0675cea1e.jpg',\n",
       " '0a14d13a-9b68-11ed-a708-3ca0675cea1e.jpg',\n",
       " '0a2e3b22-9b68-11ed-bbf0-3ca0675cea1e.jpg',\n",
       " '0a2eb002-9b68-11ed-96a7-3ca0675cea1e.jpg',\n",
       " '0a40cd24-9b68-11ed-bed9-3ca0675cea1e.jpg',\n",
       " '0a4b57b8-9b68-11ed-8273-3ca0675cea1e.jpg',\n",
       " '0a4c98f0-9b68-11ed-be71-3ca0675cea1e.jpg',\n",
       " '0a54b3f6-9b68-11ed-9fcc-3ca0675cea1e.jpg',\n",
       " '0a6f11ac-9b68-11ed-8782-3ca0675cea1e.jpg',\n",
       " '0a6feeba-9b68-11ed-a119-3ca0675cea1e.jpg',\n",
       " '0c2166f6-9b68-11ed-a2d6-3ca0675cea1e.jpg',\n",
       " '0c411546-9b68-11ed-b16e-3ca0675cea1e.jpg',\n",
       " '0c422602-9b68-11ed-bbad-3ca0675cea1e.jpg',\n",
       " '0c506692-9b68-11ed-b698-3ca0675cea1e.jpg',\n",
       " '0c515048-9b68-11ed-839e-3ca0675cea1e.jpg',\n",
       " '0c52130c-9b68-11ed-8efe-3ca0675cea1e.jpg',\n",
       " '0c742552-9b68-11ed-9a8f-3ca0675cea1e.jpg',\n",
       " '0c80575e-9b68-11ed-bc2a-3ca0675cea1e.jpg',\n",
       " '0c835406-9b68-11ed-9fc8-3ca0675cea1e.jpg',\n",
       " '0c91359a-9b68-11ed-b7b0-3ca0675cea1e.jpg',\n",
       " '0c918410-9b68-11ed-8519-3ca0675cea1e.jpg',\n",
       " '0ca62b94-9b68-11ed-a697-3ca0675cea1e.jpg',\n",
       " '0ca730c6-9b68-11ed-a846-3ca0675cea1e.jpg',\n",
       " '0cb70ecc-9b68-11ed-88a3-3ca0675cea1e.jpg',\n",
       " '0cb7abe4-9b68-11ed-b324-3ca0675cea1e.jpg',\n",
       " '0cb8209c-9b68-11ed-a99d-3ca0675cea1e.jpg',\n",
       " '0cb89582-9b68-11ed-a4a8-3ca0675cea1e.jpg',\n",
       " '0cb9b0a4-9b68-11ed-aa47-3ca0675cea1e.jpg',\n",
       " '0cb9ffe6-9b68-11ed-ac82-3ca0675cea1e.jpg',\n",
       " '0cba4dd2-9b68-11ed-bc19-3ca0675cea1e.jpg',\n",
       " '0cc5734a-9b68-11ed-942d-3ca0675cea1e.jpg',\n",
       " '0cc90758-9b68-11ed-b6c6-3ca0675cea1e.jpg',\n",
       " '0cc97c38-9b68-11ed-8089-3ca0675cea1e.jpg',\n",
       " '0cc9f2b4-9b68-11ed-9c7d-3ca0675cea1e.jpg',\n",
       " '0cca407a-9b68-11ed-a211-3ca0675cea1e.jpg',\n",
       " '0cdc7346-9b68-11ed-bf02-3ca0675cea1e.jpg',\n",
       " '0cdd8566-9b68-11ed-bbb1-3ca0675cea1e.jpg',\n",
       " '0cde961e-9b68-11ed-955f-3ca0675cea1e.jpg',\n",
       " '0cdfcc46-9b68-11ed-abfd-3ca0675cea1e.jpg',\n",
       " '0cf0d78c-9b68-11ed-ac05-3ca0675cea1e.jpg',\n",
       " '0cf14c6e-9b68-11ed-824e-3ca0675cea1e.jpg',\n",
       " '0cf1c152-9b68-11ed-bb2b-3ca0675cea1e.jpg',\n",
       " '0cf23634-9b68-11ed-89d1-3ca0675cea1e.jpg',\n",
       " '0cf52176-9b68-11ed-9900-3ca0675cea1e.jpg',\n",
       " '0cf56f5e-9b68-11ed-a27e-3ca0675cea1e.jpg',\n",
       " '0cf63236-9b68-11ed-a274-3ca0675cea1e.jpg',\n",
       " '0cf76b38-9b68-11ed-8658-3ca0675cea1e.jpg',\n",
       " '0cfbdab0-9b68-11ed-b884-3ca0675cea1e.jpg',\n",
       " '0d0c47ca-9b68-11ed-be37-3ca0675cea1e.jpg',\n",
       " '0d0dff8c-9b68-11ed-8da3-3ca0675cea1e.jpg',\n",
       " '0d4a9346-9b68-11ed-b671-3ca0675cea1e.jpg',\n",
       " '0e31450c-9b68-11ed-9cd2-3ca0675cea1e.jpg',\n",
       " '0e3207da-9b68-11ed-b252-3ca0675cea1e.jpg',\n",
       " '0e407300-9b68-11ed-9f14-3ca0675cea1e.jpg',\n",
       " '0e4135cc-9b68-11ed-af55-3ca0675cea1e.jpg',\n",
       " '0e421f86-9b68-11ed-ad88-3ca0675cea1e.jpg',\n",
       " '0e5064ac-9b68-11ed-8399-3ca0675cea1e.jpg',\n",
       " '0e52861c-9b68-11ed-bb7e-3ca0675cea1e.jpg',\n",
       " '0e532200-9b68-11ed-854d-3ca0675cea1e.jpg',\n",
       " '0e536ff0-9b68-11ed-bbaa-3ca0675cea1e.jpg',\n",
       " '0e5432b4-9b68-11ed-94e1-3ca0675cea1e.jpg',\n",
       " '0e640f78-9b68-11ed-b1f3-3ca0675cea1e.jpg',\n",
       " '0e65471c-9b68-11ed-8f13-3ca0675cea1e.jpg',\n",
       " '0e667ef6-9b68-11ed-bae8-3ca0675cea1e.jpg',\n",
       " '0e679a36-9b68-11ed-a445-3ca0675cea1e.jpg',\n",
       " '0e697d4c-9b68-11ed-99f2-3ca0675cea1e.jpg',\n",
       " '0e7658c6-9b68-11ed-80a6-3ca0675cea1e.jpg',\n",
       " '0e775d86-9b68-11ed-9a06-3ca0675cea1e.jpg',\n",
       " '0e77848c-9b68-11ed-bd99-3ca0675cea1e.jpg',\n",
       " '0e7848f4-9b68-11ed-90ff-3ca0675cea1e.jpg',\n",
       " '0e786fe8-9b68-11ed-985d-3ca0675cea1e.jpg',\n",
       " '0e790bc0-9b68-11ed-ba1e-3ca0675cea1e.jpg',\n",
       " '0e82f612-9b68-11ed-894c-3ca0675cea1e.jpg',\n",
       " '0e841982-9b68-11ed-b75a-3ca0675cea1e.jpg',\n",
       " '0e91e928-9b68-11ed-8b94-3ca0675cea1e.jpg',\n",
       " '0e92f9fa-9b68-11ed-ba96-3ca0675cea1e.jpg',\n",
       " '0e939598-9b68-11ed-addc-3ca0675cea1e.jpg',\n",
       " '0e943168-9b68-11ed-80ba-3ca0675cea1e.jpg',\n",
       " '0e951b4c-9b68-11ed-b818-3ca0675cea1e.jpg',\n",
       " '0e959012-9b68-11ed-bca6-3ca0675cea1e.jpg',\n",
       " '0e9604ee-9b68-11ed-9b56-3ca0675cea1e.jpg',\n",
       " '0ebf5906-9b68-11ed-b076-3ca0675cea1e.jpg',\n",
       " '0ede367e-9b68-11ed-a1b2-3ca0675cea1e.jpg',\n",
       " '0edf2046-9b68-11ed-b9a2-3ca0675cea1e.jpg',\n",
       " '0ee0313a-9b68-11ed-bca9-3ca0675cea1e.jpg',\n",
       " '0ee141f6-9b68-11ed-9882-3ca0675cea1e.jpg',\n",
       " '0ee27958-9b68-11ed-897e-3ca0675cea1e.jpg',\n",
       " '0ee38a02-9b68-11ed-8f17-3ca0675cea1e.jpg',\n",
       " '0ee44e7a-9b68-11ed-93d8-3ca0675cea1e.jpg',\n",
       " '0ee536cc-9b68-11ed-992a-3ca0675cea1e.jpg',\n",
       " '0ef17e46-9b68-11ed-b1cf-3ca0675cea1e.jpg',\n",
       " '0ef29b90-9b68-11ed-927d-3ca0675cea1e.jpg',\n",
       " '0ef2fbd4-9b68-11ed-a58f-3ca0675cea1e.jpg',\n",
       " '0ef322e2-9b68-11ed-aba4-3ca0675cea1e.jpg',\n",
       " '0ef3bd7e-9b68-11ed-ad71-3ca0675cea1e.jpg',\n",
       " '0ef4224a-9b68-11ed-bb4f-3ca0675cea1e.jpg',\n",
       " '0ef45d0c-9b68-11ed-9209-3ca0675cea1e.jpg',\n",
       " '0ef4d200-9b68-11ed-ac20-3ca0675cea1e.jpg',\n",
       " '0ef546d4-9b68-11ed-9c12-3ca0675cea1e.jpg',\n",
       " '0f009168-9b68-11ed-ba70-3ca0675cea1e.jpg',\n",
       " '0f01991a-9b68-11ed-b35b-3ca0675cea1e.jpg',\n",
       " '0f01c024-9b68-11ed-8c33-3ca0675cea1e.jpg',\n",
       " '0f02fb78-9b68-11ed-93e9-3ca0675cea1e.jpg',\n",
       " '0f03e3f6-9b68-11ed-a5b7-3ca0675cea1e.jpg',\n",
       " '0f0eb9b0-9b68-11ed-83e4-3ca0675cea1e.jpg',\n",
       " '0f5c0d92-9b68-11ed-bb8d-3ca0675cea1e.jpg',\n",
       " '0f5c826e-9b68-11ed-8b32-3ca0675cea1e.jpg',\n",
       " '0f5cf768-9b68-11ed-9941-3ca0675cea1e.jpg',\n",
       " '0f5d6c46-9b68-11ed-9ea5-3ca0675cea1e.jpg',\n",
       " '0f5dbba8-9b68-11ed-b451-3ca0675cea1e.jpg',\n",
       " '0f5e0810-9b68-11ed-9459-3ca0675cea1e.jpg',\n",
       " '0f5e55fa-9b68-11ed-8b47-3ca0675cea1e.jpg',\n",
       " '0f5ecadc-9b68-11ed-9a78-3ca0675cea1e.jpg',\n",
       " '0f6b4574-9b68-11ed-a3cc-3ca0675cea1e.jpg',\n",
       " '0f6bba4c-9b68-11ed-bec5-3ca0675cea1e.jpg',\n",
       " '0f6c09b4-9b68-11ed-bf20-3ca0675cea1e.jpg',\n",
       " '0f6c57d8-9b68-11ed-9020-3ca0675cea1e.jpg',\n",
       " '0f98d940-9b68-11ed-8a87-3ca0675cea1e.jpg',\n",
       " '0f994e18-9b68-11ed-b15a-3ca0675cea1e.jpg',\n",
       " '0f99c300-9b68-11ed-9055-3ca0675cea1e.jpg',\n",
       " '0f9aae46-9b68-11ed-9451-3ca0675cea1e.jpg']"
      ]
     },
     "execution_count": 100,
     "metadata": {},
     "output_type": "execute_result"
    }
   ],
   "source": [
    "os.listdir(os.path.join('application_data', 'verification_images'))"
   ]
  },
  {
   "cell_type": "code",
   "execution_count": 101,
   "metadata": {},
   "outputs": [
    {
     "data": {
      "text/plain": [
       "'application_data\\\\input_image\\\\input_image.jpg'"
      ]
     },
     "execution_count": 101,
     "metadata": {},
     "output_type": "execute_result"
    }
   ],
   "source": [
    "os.path.join('application_data', 'input_image', 'input_image.jpg')"
   ]
  },
  {
   "cell_type": "code",
   "execution_count": 102,
   "metadata": {},
   "outputs": [
    {
     "name": "stdout",
     "output_type": "stream",
     "text": [
      "application_data\\verification_images\\000ed328-9b68-11ed-bb66-3ca0675cea1e.jpg\n",
      "application_data\\verification_images\\000fbc8c-9b68-11ed-9f4a-3ca0675cea1e.jpg\n",
      "application_data\\verification_images\\00b29290-9b68-11ed-81ae-3ca0675cea1e.jpg\n",
      "application_data\\verification_images\\00b30728-9b68-11ed-b33e-3ca0675cea1e.jpg\n",
      "application_data\\verification_images\\00b35528-9b68-11ed-8b29-3ca0675cea1e.jpg\n",
      "application_data\\verification_images\\00c3d7d4-9b68-11ed-99d8-3ca0675cea1e.jpg\n",
      "application_data\\verification_images\\00c4c2b4-9b68-11ed-9c65-3ca0675cea1e.jpg\n",
      "application_data\\verification_images\\00c511cc-9b68-11ed-9f1c-3ca0675cea1e.jpg\n",
      "application_data\\verification_images\\00cab3de-9b68-11ed-af65-3ca0675cea1e.jpg\n",
      "application_data\\verification_images\\00cb01dc-9b68-11ed-8651-3ca0675cea1e.jpg\n",
      "application_data\\verification_images\\00d13c70-9b68-11ed-95ad-3ca0675cea1e.jpg\n",
      "application_data\\verification_images\\00d18a7e-9b68-11ed-a0c5-3ca0675cea1e.jpg\n",
      "application_data\\verification_images\\00d2263a-9b68-11ed-8a44-3ca0675cea1e.jpg\n",
      "application_data\\verification_images\\00d2e912-9b68-11ed-9577-3ca0675cea1e.jpg\n",
      "application_data\\verification_images\\00dde5b0-9b68-11ed-abb2-3ca0675cea1e.jpg\n",
      "application_data\\verification_images\\0a02e7fe-9b68-11ed-aebc-3ca0675cea1e.jpg\n",
      "application_data\\verification_images\\0a03d1ba-9b68-11ed-961e-3ca0675cea1e.jpg\n",
      "application_data\\verification_images\\0a0e5dfe-9b68-11ed-98de-3ca0675cea1e.jpg\n",
      "application_data\\verification_images\\0a0eee3e-9b68-11ed-84be-3ca0675cea1e.jpg\n",
      "application_data\\verification_images\\0a14d13a-9b68-11ed-a708-3ca0675cea1e.jpg\n",
      "application_data\\verification_images\\0a2e3b22-9b68-11ed-bbf0-3ca0675cea1e.jpg\n",
      "application_data\\verification_images\\0a2eb002-9b68-11ed-96a7-3ca0675cea1e.jpg\n",
      "application_data\\verification_images\\0a40cd24-9b68-11ed-bed9-3ca0675cea1e.jpg\n",
      "application_data\\verification_images\\0a4b57b8-9b68-11ed-8273-3ca0675cea1e.jpg\n",
      "application_data\\verification_images\\0a4c98f0-9b68-11ed-be71-3ca0675cea1e.jpg\n",
      "application_data\\verification_images\\0a54b3f6-9b68-11ed-9fcc-3ca0675cea1e.jpg\n",
      "application_data\\verification_images\\0a6f11ac-9b68-11ed-8782-3ca0675cea1e.jpg\n",
      "application_data\\verification_images\\0a6feeba-9b68-11ed-a119-3ca0675cea1e.jpg\n",
      "application_data\\verification_images\\0c2166f6-9b68-11ed-a2d6-3ca0675cea1e.jpg\n",
      "application_data\\verification_images\\0c411546-9b68-11ed-b16e-3ca0675cea1e.jpg\n",
      "application_data\\verification_images\\0c422602-9b68-11ed-bbad-3ca0675cea1e.jpg\n",
      "application_data\\verification_images\\0c506692-9b68-11ed-b698-3ca0675cea1e.jpg\n",
      "application_data\\verification_images\\0c515048-9b68-11ed-839e-3ca0675cea1e.jpg\n",
      "application_data\\verification_images\\0c52130c-9b68-11ed-8efe-3ca0675cea1e.jpg\n",
      "application_data\\verification_images\\0c742552-9b68-11ed-9a8f-3ca0675cea1e.jpg\n",
      "application_data\\verification_images\\0c80575e-9b68-11ed-bc2a-3ca0675cea1e.jpg\n",
      "application_data\\verification_images\\0c835406-9b68-11ed-9fc8-3ca0675cea1e.jpg\n",
      "application_data\\verification_images\\0c91359a-9b68-11ed-b7b0-3ca0675cea1e.jpg\n",
      "application_data\\verification_images\\0c918410-9b68-11ed-8519-3ca0675cea1e.jpg\n",
      "application_data\\verification_images\\0ca62b94-9b68-11ed-a697-3ca0675cea1e.jpg\n",
      "application_data\\verification_images\\0ca730c6-9b68-11ed-a846-3ca0675cea1e.jpg\n",
      "application_data\\verification_images\\0cb70ecc-9b68-11ed-88a3-3ca0675cea1e.jpg\n",
      "application_data\\verification_images\\0cb7abe4-9b68-11ed-b324-3ca0675cea1e.jpg\n",
      "application_data\\verification_images\\0cb8209c-9b68-11ed-a99d-3ca0675cea1e.jpg\n",
      "application_data\\verification_images\\0cb89582-9b68-11ed-a4a8-3ca0675cea1e.jpg\n",
      "application_data\\verification_images\\0cb9b0a4-9b68-11ed-aa47-3ca0675cea1e.jpg\n",
      "application_data\\verification_images\\0cb9ffe6-9b68-11ed-ac82-3ca0675cea1e.jpg\n",
      "application_data\\verification_images\\0cba4dd2-9b68-11ed-bc19-3ca0675cea1e.jpg\n",
      "application_data\\verification_images\\0cc5734a-9b68-11ed-942d-3ca0675cea1e.jpg\n",
      "application_data\\verification_images\\0cc90758-9b68-11ed-b6c6-3ca0675cea1e.jpg\n",
      "application_data\\verification_images\\0cc97c38-9b68-11ed-8089-3ca0675cea1e.jpg\n",
      "application_data\\verification_images\\0cc9f2b4-9b68-11ed-9c7d-3ca0675cea1e.jpg\n",
      "application_data\\verification_images\\0cca407a-9b68-11ed-a211-3ca0675cea1e.jpg\n",
      "application_data\\verification_images\\0cdc7346-9b68-11ed-bf02-3ca0675cea1e.jpg\n",
      "application_data\\verification_images\\0cdd8566-9b68-11ed-bbb1-3ca0675cea1e.jpg\n",
      "application_data\\verification_images\\0cde961e-9b68-11ed-955f-3ca0675cea1e.jpg\n",
      "application_data\\verification_images\\0cdfcc46-9b68-11ed-abfd-3ca0675cea1e.jpg\n",
      "application_data\\verification_images\\0cf0d78c-9b68-11ed-ac05-3ca0675cea1e.jpg\n",
      "application_data\\verification_images\\0cf14c6e-9b68-11ed-824e-3ca0675cea1e.jpg\n",
      "application_data\\verification_images\\0cf1c152-9b68-11ed-bb2b-3ca0675cea1e.jpg\n",
      "application_data\\verification_images\\0cf23634-9b68-11ed-89d1-3ca0675cea1e.jpg\n",
      "application_data\\verification_images\\0cf52176-9b68-11ed-9900-3ca0675cea1e.jpg\n",
      "application_data\\verification_images\\0cf56f5e-9b68-11ed-a27e-3ca0675cea1e.jpg\n",
      "application_data\\verification_images\\0cf63236-9b68-11ed-a274-3ca0675cea1e.jpg\n",
      "application_data\\verification_images\\0cf76b38-9b68-11ed-8658-3ca0675cea1e.jpg\n",
      "application_data\\verification_images\\0cfbdab0-9b68-11ed-b884-3ca0675cea1e.jpg\n",
      "application_data\\verification_images\\0d0c47ca-9b68-11ed-be37-3ca0675cea1e.jpg\n",
      "application_data\\verification_images\\0d0dff8c-9b68-11ed-8da3-3ca0675cea1e.jpg\n",
      "application_data\\verification_images\\0d4a9346-9b68-11ed-b671-3ca0675cea1e.jpg\n",
      "application_data\\verification_images\\0e31450c-9b68-11ed-9cd2-3ca0675cea1e.jpg\n",
      "application_data\\verification_images\\0e3207da-9b68-11ed-b252-3ca0675cea1e.jpg\n",
      "application_data\\verification_images\\0e407300-9b68-11ed-9f14-3ca0675cea1e.jpg\n",
      "application_data\\verification_images\\0e4135cc-9b68-11ed-af55-3ca0675cea1e.jpg\n",
      "application_data\\verification_images\\0e421f86-9b68-11ed-ad88-3ca0675cea1e.jpg\n",
      "application_data\\verification_images\\0e5064ac-9b68-11ed-8399-3ca0675cea1e.jpg\n",
      "application_data\\verification_images\\0e52861c-9b68-11ed-bb7e-3ca0675cea1e.jpg\n",
      "application_data\\verification_images\\0e532200-9b68-11ed-854d-3ca0675cea1e.jpg\n",
      "application_data\\verification_images\\0e536ff0-9b68-11ed-bbaa-3ca0675cea1e.jpg\n",
      "application_data\\verification_images\\0e5432b4-9b68-11ed-94e1-3ca0675cea1e.jpg\n",
      "application_data\\verification_images\\0e640f78-9b68-11ed-b1f3-3ca0675cea1e.jpg\n",
      "application_data\\verification_images\\0e65471c-9b68-11ed-8f13-3ca0675cea1e.jpg\n",
      "application_data\\verification_images\\0e667ef6-9b68-11ed-bae8-3ca0675cea1e.jpg\n",
      "application_data\\verification_images\\0e679a36-9b68-11ed-a445-3ca0675cea1e.jpg\n",
      "application_data\\verification_images\\0e697d4c-9b68-11ed-99f2-3ca0675cea1e.jpg\n",
      "application_data\\verification_images\\0e7658c6-9b68-11ed-80a6-3ca0675cea1e.jpg\n",
      "application_data\\verification_images\\0e775d86-9b68-11ed-9a06-3ca0675cea1e.jpg\n",
      "application_data\\verification_images\\0e77848c-9b68-11ed-bd99-3ca0675cea1e.jpg\n",
      "application_data\\verification_images\\0e7848f4-9b68-11ed-90ff-3ca0675cea1e.jpg\n",
      "application_data\\verification_images\\0e786fe8-9b68-11ed-985d-3ca0675cea1e.jpg\n",
      "application_data\\verification_images\\0e790bc0-9b68-11ed-ba1e-3ca0675cea1e.jpg\n",
      "application_data\\verification_images\\0e82f612-9b68-11ed-894c-3ca0675cea1e.jpg\n",
      "application_data\\verification_images\\0e841982-9b68-11ed-b75a-3ca0675cea1e.jpg\n",
      "application_data\\verification_images\\0e91e928-9b68-11ed-8b94-3ca0675cea1e.jpg\n",
      "application_data\\verification_images\\0e92f9fa-9b68-11ed-ba96-3ca0675cea1e.jpg\n",
      "application_data\\verification_images\\0e939598-9b68-11ed-addc-3ca0675cea1e.jpg\n",
      "application_data\\verification_images\\0e943168-9b68-11ed-80ba-3ca0675cea1e.jpg\n",
      "application_data\\verification_images\\0e951b4c-9b68-11ed-b818-3ca0675cea1e.jpg\n",
      "application_data\\verification_images\\0e959012-9b68-11ed-bca6-3ca0675cea1e.jpg\n",
      "application_data\\verification_images\\0e9604ee-9b68-11ed-9b56-3ca0675cea1e.jpg\n",
      "application_data\\verification_images\\0ebf5906-9b68-11ed-b076-3ca0675cea1e.jpg\n",
      "application_data\\verification_images\\0ede367e-9b68-11ed-a1b2-3ca0675cea1e.jpg\n",
      "application_data\\verification_images\\0edf2046-9b68-11ed-b9a2-3ca0675cea1e.jpg\n",
      "application_data\\verification_images\\0ee0313a-9b68-11ed-bca9-3ca0675cea1e.jpg\n",
      "application_data\\verification_images\\0ee141f6-9b68-11ed-9882-3ca0675cea1e.jpg\n",
      "application_data\\verification_images\\0ee27958-9b68-11ed-897e-3ca0675cea1e.jpg\n",
      "application_data\\verification_images\\0ee38a02-9b68-11ed-8f17-3ca0675cea1e.jpg\n",
      "application_data\\verification_images\\0ee44e7a-9b68-11ed-93d8-3ca0675cea1e.jpg\n",
      "application_data\\verification_images\\0ee536cc-9b68-11ed-992a-3ca0675cea1e.jpg\n",
      "application_data\\verification_images\\0ef17e46-9b68-11ed-b1cf-3ca0675cea1e.jpg\n",
      "application_data\\verification_images\\0ef29b90-9b68-11ed-927d-3ca0675cea1e.jpg\n",
      "application_data\\verification_images\\0ef2fbd4-9b68-11ed-a58f-3ca0675cea1e.jpg\n",
      "application_data\\verification_images\\0ef322e2-9b68-11ed-aba4-3ca0675cea1e.jpg\n",
      "application_data\\verification_images\\0ef3bd7e-9b68-11ed-ad71-3ca0675cea1e.jpg\n",
      "application_data\\verification_images\\0ef4224a-9b68-11ed-bb4f-3ca0675cea1e.jpg\n",
      "application_data\\verification_images\\0ef45d0c-9b68-11ed-9209-3ca0675cea1e.jpg\n",
      "application_data\\verification_images\\0ef4d200-9b68-11ed-ac20-3ca0675cea1e.jpg\n",
      "application_data\\verification_images\\0ef546d4-9b68-11ed-9c12-3ca0675cea1e.jpg\n",
      "application_data\\verification_images\\0f009168-9b68-11ed-ba70-3ca0675cea1e.jpg\n",
      "application_data\\verification_images\\0f01991a-9b68-11ed-b35b-3ca0675cea1e.jpg\n",
      "application_data\\verification_images\\0f01c024-9b68-11ed-8c33-3ca0675cea1e.jpg\n",
      "application_data\\verification_images\\0f02fb78-9b68-11ed-93e9-3ca0675cea1e.jpg\n",
      "application_data\\verification_images\\0f03e3f6-9b68-11ed-a5b7-3ca0675cea1e.jpg\n",
      "application_data\\verification_images\\0f0eb9b0-9b68-11ed-83e4-3ca0675cea1e.jpg\n",
      "application_data\\verification_images\\0f5c0d92-9b68-11ed-bb8d-3ca0675cea1e.jpg\n",
      "application_data\\verification_images\\0f5c826e-9b68-11ed-8b32-3ca0675cea1e.jpg\n",
      "application_data\\verification_images\\0f5cf768-9b68-11ed-9941-3ca0675cea1e.jpg\n",
      "application_data\\verification_images\\0f5d6c46-9b68-11ed-9ea5-3ca0675cea1e.jpg\n",
      "application_data\\verification_images\\0f5dbba8-9b68-11ed-b451-3ca0675cea1e.jpg\n",
      "application_data\\verification_images\\0f5e0810-9b68-11ed-9459-3ca0675cea1e.jpg\n",
      "application_data\\verification_images\\0f5e55fa-9b68-11ed-8b47-3ca0675cea1e.jpg\n",
      "application_data\\verification_images\\0f5ecadc-9b68-11ed-9a78-3ca0675cea1e.jpg\n",
      "application_data\\verification_images\\0f6b4574-9b68-11ed-a3cc-3ca0675cea1e.jpg\n",
      "application_data\\verification_images\\0f6bba4c-9b68-11ed-bec5-3ca0675cea1e.jpg\n",
      "application_data\\verification_images\\0f6c09b4-9b68-11ed-bf20-3ca0675cea1e.jpg\n",
      "application_data\\verification_images\\0f6c57d8-9b68-11ed-9020-3ca0675cea1e.jpg\n",
      "application_data\\verification_images\\0f98d940-9b68-11ed-8a87-3ca0675cea1e.jpg\n",
      "application_data\\verification_images\\0f994e18-9b68-11ed-b15a-3ca0675cea1e.jpg\n",
      "application_data\\verification_images\\0f99c300-9b68-11ed-9055-3ca0675cea1e.jpg\n",
      "application_data\\verification_images\\0f9aae46-9b68-11ed-9451-3ca0675cea1e.jpg\n"
     ]
    }
   ],
   "source": [
    "for image in os.listdir(os.path.join('application_data', 'verification_images')):\n",
    "    validation_img = os.path.join('application_data', 'verification_images', image)\n",
    "    print(validation_img)"
   ]
  },
  {
   "cell_type": "code",
   "execution_count": 103,
   "metadata": {},
   "outputs": [],
   "source": [
    "def verify(model, detection_threshold, verification_threshold):\n",
    "    # Build results array\n",
    "    results = []\n",
    "    for image in os.listdir(os.path.join('application_data', 'verification_images')):\n",
    "        input_img = preprocess(os.path.join('application_data', 'input_image', 'input_image.jpg'))\n",
    "        validation_img = preprocess(os.path.join('application_data', 'verification_images', image))\n",
    "        \n",
    "        # Make Predictions \n",
    "        result = model.predict(list(np.expand_dims([input_img, validation_img], axis=1)))\n",
    "        results.append(result)\n",
    "    \n",
    "    # Detection Threshold: Metric above which a prediciton is considered positive \n",
    "    detection = np.sum(np.array(results) > detection_threshold)\n",
    "    \n",
    "    # Verification Threshold: Proportion of positive predictions / total positive samples \n",
    "    verification = detection / len(os.listdir(os.path.join('application_data', 'verification_images'))) \n",
    "    verified = verification > verification_threshold\n",
    "    \n",
    "    return results, verified"
   ]
  },
  {
   "cell_type": "code",
   "execution_count": null,
   "metadata": {},
   "outputs": [],
   "source": []
  },
  {
   "cell_type": "markdown",
   "metadata": {},
   "source": [
    "OpenCV Real Time Verification"
   ]
  },
  {
   "cell_type": "code",
   "execution_count": 115,
   "metadata": {},
   "outputs": [
    {
     "name": "stdout",
     "output_type": "stream",
     "text": [
      "False\n",
      "True\n"
     ]
    }
   ],
   "source": [
    "cap = cv2.VideoCapture(0)\n",
    "while cap.isOpened():\n",
    "    ret, frame = cap.read()\n",
    "    frame = frame[120:120+250,200:200+250, :]\n",
    "    \n",
    "    cv2.imshow('Verification', frame)\n",
    "    \n",
    "    # Verification trigger\n",
    "    if cv2.waitKey(10) & 0xFF == ord('v'):\n",
    "        # Save input image to application_data/input_image folder \n",
    "#         hsv = cv2.cvtColor(frame, cv2.COLOR_BGR2HSV)\n",
    "#         h, s, v = cv2.split(hsv)\n",
    "\n",
    "#         lim = 255 - 10\n",
    "#         v[v > lim] = 255\n",
    "#         v[v <= lim] -= 10\n",
    "        \n",
    "#         final_hsv = cv2.merge((h, s, v))\n",
    "#         img = cv2.cvtColor(final_hsv, cv2.COLOR_HSV2BGR)\n",
    "\n",
    "        cv2.imwrite(os.path.join('application_data', 'input_image', 'input_image.jpg'), frame)\n",
    "        # Run verification\n",
    "        results, verified = verify(siamese_model, 0.5, 0.5)\n",
    "        print(verified)\n",
    "    \n",
    "    if cv2.waitKey(10) & 0xFF == ord('q'):\n",
    "        break\n",
    "cap.release()\n",
    "cv2.destroyAllWindows()"
   ]
  },
  {
   "cell_type": "code",
   "execution_count": 113,
   "metadata": {},
   "outputs": [
    {
     "data": {
      "text/plain": [
       "95"
      ]
     },
     "execution_count": 113,
     "metadata": {},
     "output_type": "execute_result"
    }
   ],
   "source": [
    "np.sum(np.squeeze(results) > 0.9)"
   ]
  },
  {
   "cell_type": "code",
   "execution_count": 114,
   "metadata": {},
   "outputs": [
    {
     "data": {
      "text/plain": [
       "[array([[0.98144644]], dtype=float32),\n",
       " array([[0.23511598]], dtype=float32),\n",
       " array([[0.9339701]], dtype=float32),\n",
       " array([[0.95660794]], dtype=float32),\n",
       " array([[0.9993949]], dtype=float32),\n",
       " array([[0.9913119]], dtype=float32),\n",
       " array([[0.03139648]], dtype=float32),\n",
       " array([[0.9975407]], dtype=float32),\n",
       " array([[0.31738588]], dtype=float32),\n",
       " array([[0.58645135]], dtype=float32),\n",
       " array([[0.84750366]], dtype=float32),\n",
       " array([[0.9197401]], dtype=float32),\n",
       " array([[0.99951226]], dtype=float32),\n",
       " array([[0.99959815]], dtype=float32),\n",
       " array([[0.9926517]], dtype=float32),\n",
       " array([[0.99960387]], dtype=float32),\n",
       " array([[0.9946462]], dtype=float32),\n",
       " array([[0.03132331]], dtype=float32),\n",
       " array([[0.29500163]], dtype=float32),\n",
       " array([[0.64902574]], dtype=float32),\n",
       " array([[0.99949896]], dtype=float32),\n",
       " array([[0.9895085]], dtype=float32),\n",
       " array([[0.9975552]], dtype=float32),\n",
       " array([[0.6595652]], dtype=float32),\n",
       " array([[0.8695216]], dtype=float32),\n",
       " array([[0.99967504]], dtype=float32),\n",
       " array([[0.99934286]], dtype=float32),\n",
       " array([[0.851295]], dtype=float32),\n",
       " array([[0.96234345]], dtype=float32),\n",
       " array([[0.9876634]], dtype=float32),\n",
       " array([[0.9998015]], dtype=float32),\n",
       " array([[0.9893973]], dtype=float32),\n",
       " array([[0.7902595]], dtype=float32),\n",
       " array([[0.99948364]], dtype=float32),\n",
       " array([[0.9959562]], dtype=float32),\n",
       " array([[0.9905889]], dtype=float32),\n",
       " array([[0.9950297]], dtype=float32),\n",
       " array([[0.98812246]], dtype=float32),\n",
       " array([[0.9965047]], dtype=float32),\n",
       " array([[0.01008821]], dtype=float32),\n",
       " array([[0.9961914]], dtype=float32),\n",
       " array([[0.31486288]], dtype=float32),\n",
       " array([[0.63630116]], dtype=float32),\n",
       " array([[0.8056152]], dtype=float32),\n",
       " array([[0.9992529]], dtype=float32),\n",
       " array([[0.9994613]], dtype=float32),\n",
       " array([[0.9833989]], dtype=float32),\n",
       " array([[0.9894892]], dtype=float32),\n",
       " array([[0.9843442]], dtype=float32),\n",
       " array([[0.9957392]], dtype=float32),\n",
       " array([[0.9972532]], dtype=float32),\n",
       " array([[0.7669659]], dtype=float32),\n",
       " array([[0.9988594]], dtype=float32),\n",
       " array([[0.99915504]], dtype=float32),\n",
       " array([[0.9732957]], dtype=float32),\n",
       " array([[0.99954045]], dtype=float32),\n",
       " array([[0.99965966]], dtype=float32),\n",
       " array([[0.00766644]], dtype=float32),\n",
       " array([[0.04878175]], dtype=float32),\n",
       " array([[0.23103869]], dtype=float32),\n",
       " array([[0.5792036]], dtype=float32),\n",
       " array([[0.86315596]], dtype=float32),\n",
       " array([[0.92452765]], dtype=float32),\n",
       " array([[0.95768726]], dtype=float32),\n",
       " array([[0.9819397]], dtype=float32),\n",
       " array([[0.99937487]], dtype=float32),\n",
       " array([[0.00737563]], dtype=float32),\n",
       " array([[0.04843956]], dtype=float32),\n",
       " array([[0.84453297]], dtype=float32),\n",
       " array([[0.9539293]], dtype=float32),\n",
       " array([[0.99922407]], dtype=float32),\n",
       " array([[0.88410413]], dtype=float32),\n",
       " array([[0.98336005]], dtype=float32),\n",
       " array([[0.99938536]], dtype=float32),\n",
       " array([[0.9863457]], dtype=float32),\n",
       " array([[0.7126688]], dtype=float32),\n",
       " array([[0.9200225]], dtype=float32),\n",
       " array([[0.99800426]], dtype=float32),\n",
       " array([[0.99197817]], dtype=float32),\n",
       " array([[0.9656018]], dtype=float32),\n",
       " array([[0.9903935]], dtype=float32),\n",
       " array([[0.99563134]], dtype=float32),\n",
       " array([[0.9489547]], dtype=float32),\n",
       " array([[0.98612666]], dtype=float32),\n",
       " array([[0.03729504]], dtype=float32),\n",
       " array([[0.06904399]], dtype=float32),\n",
       " array([[0.97857684]], dtype=float32),\n",
       " array([[0.85751987]], dtype=float32),\n",
       " array([[0.99698776]], dtype=float32),\n",
       " array([[0.99827313]], dtype=float32),\n",
       " array([[0.07274216]], dtype=float32),\n",
       " array([[0.01226437]], dtype=float32),\n",
       " array([[0.81550443]], dtype=float32),\n",
       " array([[0.9352822]], dtype=float32),\n",
       " array([[0.98136353]], dtype=float32),\n",
       " array([[0.76885605]], dtype=float32),\n",
       " array([[0.8528879]], dtype=float32),\n",
       " array([[0.903149]], dtype=float32),\n",
       " array([[0.95985466]], dtype=float32),\n",
       " array([[0.95528054]], dtype=float32),\n",
       " array([[0.9857873]], dtype=float32),\n",
       " array([[0.6156811]], dtype=float32),\n",
       " array([[0.85801494]], dtype=float32),\n",
       " array([[0.9972091]], dtype=float32),\n",
       " array([[0.9677026]], dtype=float32),\n",
       " array([[0.9987731]], dtype=float32),\n",
       " array([[0.99294066]], dtype=float32),\n",
       " array([[0.9957348]], dtype=float32),\n",
       " array([[0.00932866]], dtype=float32),\n",
       " array([[0.98742235]], dtype=float32),\n",
       " array([[0.9936778]], dtype=float32),\n",
       " array([[0.99672127]], dtype=float32),\n",
       " array([[0.9979918]], dtype=float32),\n",
       " array([[0.9986383]], dtype=float32),\n",
       " array([[0.99904037]], dtype=float32),\n",
       " array([[0.98218185]], dtype=float32),\n",
       " array([[0.9995351]], dtype=float32),\n",
       " array([[0.9700444]], dtype=float32),\n",
       " array([[0.04048035]], dtype=float32),\n",
       " array([[0.995121]], dtype=float32),\n",
       " array([[0.9985781]], dtype=float32),\n",
       " array([[0.98683566]], dtype=float32),\n",
       " array([[0.01198491]], dtype=float32),\n",
       " array([[0.9913961]], dtype=float32),\n",
       " array([[0.9939183]], dtype=float32),\n",
       " array([[0.9967991]], dtype=float32),\n",
       " array([[0.834933]], dtype=float32),\n",
       " array([[0.91357243]], dtype=float32),\n",
       " array([[0.9547748]], dtype=float32),\n",
       " array([[0.9754863]], dtype=float32),\n",
       " array([[0.9898541]], dtype=float32),\n",
       " array([[0.01158288]], dtype=float32),\n",
       " array([[0.09554598]], dtype=float32),\n",
       " array([[0.3978235]], dtype=float32),\n",
       " array([[0.99675155]], dtype=float32),\n",
       " array([[0.998518]], dtype=float32),\n",
       " array([[0.99899435]], dtype=float32),\n",
       " array([[0.982409]], dtype=float32),\n",
       " array([[0.9994956]], dtype=float32)]"
      ]
     },
     "execution_count": 114,
     "metadata": {},
     "output_type": "execute_result"
    }
   ],
   "source": [
    "results"
   ]
  },
  {
   "cell_type": "code",
   "execution_count": null,
   "metadata": {},
   "outputs": [],
   "source": []
  }
 ],
 "metadata": {
  "kernelspec": {
   "display_name": "Python 3",
   "language": "python",
   "name": "python3"
  },
  "language_info": {
   "codemirror_mode": {
    "name": "ipython",
    "version": 3
   },
   "file_extension": ".py",
   "mimetype": "text/x-python",
   "name": "python",
   "nbconvert_exporter": "python",
   "pygments_lexer": "ipython3",
   "version": "3.7.7"
  }
 },
 "nbformat": 4,
 "nbformat_minor": 4
}
